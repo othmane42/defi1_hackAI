{
  "nbformat": 4,
  "nbformat_minor": 0,
  "metadata": {
    "kernelspec": {
      "name": "python3",
      "display_name": "Python 3"
    },
    "colab": {
      "provenance": [],
      "collapsed_sections": [],
      "include_colab_link": true
    },
    "accelerator": "GPU"
  },
  "cells": [
    {
      "cell_type": "markdown",
      "metadata": {
        "id": "view-in-github",
        "colab_type": "text"
      },
      "source": [
        "<a href=\"https://colab.research.google.com/github/othmane42/defi1_hackAI/blob/main/3_Input_classification_2022.ipynb\" target=\"_parent\"><img src=\"https://colab.research.google.com/assets/colab-badge.svg\" alt=\"Open In Colab\"/></a>"
      ]
    },
    {
      "cell_type": "markdown",
      "metadata": {
        "id": "iK6fZUXolwPs"
      },
      "source": [
        "# **1. Matériel : vérifier que le GPU est bien sélectionné (A COMPLETER)**"
      ]
    },
    {
      "cell_type": "code",
      "metadata": {
        "id": "_UEjh8Rulquq"
      },
      "source": [
        "# ?????????????????????????????????????\n",
        "# ?????????????????????????????????????"
      ],
      "execution_count": null,
      "outputs": []
    },
    {
      "cell_type": "markdown",
      "metadata": {
        "id": "QrtS3fRhb5x6"
      },
      "source": [
        "# **2. Importation des librairies**"
      ]
    },
    {
      "cell_type": "code",
      "metadata": {
        "id": "MS3XuLGyb5x_",
        "colab": {
          "base_uri": "https://localhost:8080/"
        },
        "outputId": "ff75cc93-eb9e-4405-9365-481a84bccd69"
      },
      "source": [
        "from matplotlib import pyplot as plt\n",
        "import numpy as np\n",
        "import os\n",
        "import cv2 \n",
        "import csv\n",
        "import tensorflow as tf\n",
        "from tensorflow import keras\n",
        "from keras.preprocessing import image\n",
        "from keras.models import Model, load_model\n",
        "from keras.applications.vgg16 import VGG16, preprocess_input #224*224\n",
        "from keras.applications.vgg19 import VGG19, preprocess_input #224*224\n",
        "from keras.applications.xception import Xception\n",
        "from keras.applications.mobilenet import MobileNet\n",
        "from keras.preprocessing.image import ImageDataGenerator\n",
        "from keras.layers import Dense, GlobalAveragePooling2D, Dropout\n",
        "import math\n",
        "from keras.callbacks import ModelCheckpoint, EarlyStopping\n",
        "from PIL import Image\n",
        "from google.colab import files\n",
        "print(\"Tensorflow version: \"+tf.__version__)\n",
        "print(\"Keras version: \" + tf.keras.__version__)"
      ],
      "execution_count": 2,
      "outputs": [
        {
          "output_type": "stream",
          "name": "stdout",
          "text": [
            "Tensorflow version: 2.9.2\n",
            "Keras version: 2.9.0\n"
          ]
        }
      ]
    },
    {
      "cell_type": "markdown",
      "metadata": {
        "id": "f6HqNeyYKraU"
      },
      "source": [
        "#**3. Téléchargement des données d'entrainement \"Small Dataset\"**"
      ]
    },
    {
      "cell_type": "code",
      "source": [
        "def seed_everything(seed=0):\n",
        "    tf.random.set_seed(seed)\n",
        "    os.environ[\"PYTHONHASHSEED\"]=str(seed)\n",
        "    np.random.seed(seed)\n",
        "    \n",
        "# seeding the enviorment to have reproducable results.\n",
        "\n",
        "seed_everything()\n",
        "#tf.config.experimental.enable_op_determinism()\n"
      ],
      "metadata": {
        "id": "ByLVy9uCV3PX"
      },
      "execution_count": 3,
      "outputs": []
    },
    {
      "cell_type": "code",
      "metadata": {
        "id": "1CwAmMbqmGhW"
      },
      "source": [
        "bases_path_after=\"bases\"\n",
        "if os.path.exists(bases_path_after) == False:\n",
        "    os.makedirs(bases_path_after)"
      ],
      "execution_count": 4,
      "outputs": []
    },
    {
      "cell_type": "code",
      "metadata": {
        "id": "9zdwkyRtmnN-",
        "colab": {
          "base_uri": "https://localhost:8080/"
        },
        "outputId": "54a750ed-1167-4db8-9cc1-eba5421d12c3"
      },
      "source": [
        "!rm -rf sample_data\n",
        "! wget --no-check-certificate https://download.smartappli.eu/big.tar\n",
        "! tar xf big.tar -C 'bases' --one-top-level\n",
        "! rm big.tar"
      ],
      "execution_count": 5,
      "outputs": [
        {
          "output_type": "stream",
          "name": "stdout",
          "text": [
            "--2022-11-10 17:21:10--  https://download.smartappli.eu/big.tar\n",
            "Resolving download.smartappli.eu (download.smartappli.eu)... 46.105.57.169, 2001:41d0:301::20\n",
            "Connecting to download.smartappli.eu (download.smartappli.eu)|46.105.57.169|:443... connected.\n",
            "HTTP request sent, awaiting response... 200 OK\n",
            "Length: 4149324288 (3.9G) [application/x-tar]\n",
            "Saving to: ‘big.tar’\n",
            "\n",
            "big.tar             100%[===================>]   3.86G  24.6MB/s    in 2m 52s  \n",
            "\n",
            "2022-11-10 17:24:02 (23.1 MB/s) - ‘big.tar’ saved [4149324288/4149324288]\n",
            "\n"
          ]
        }
      ]
    },
    {
      "cell_type": "markdown",
      "source": [
        "#**4. Téléchargement des données de test \"Test Dataset\"**"
      ],
      "metadata": {
        "id": "pzFIppNCAjuX"
      }
    },
    {
      "cell_type": "code",
      "source": [
        "!rm -rf sample_data\n",
        "!wget --no-check-certificate http://195.154.53.219/downloads/test.tar\n",
        "!tar xf test.tar -C 'bases' --one-top-level\n",
        "!rm test.tar"
      ],
      "metadata": {
        "id": "BTCYigUN9Tsx",
        "colab": {
          "base_uri": "https://localhost:8080/"
        },
        "outputId": "20794f48-da13-4fc2-b4c4-fa420175e3ea"
      },
      "execution_count": 6,
      "outputs": [
        {
          "output_type": "stream",
          "name": "stdout",
          "text": [
            "--2022-11-10 17:24:47--  http://195.154.53.219/downloads/test.tar\n",
            "Connecting to 195.154.53.219:80... connected.\n",
            "HTTP request sent, awaiting response... 200 OK\n",
            "Length: 58196480 (56M) [application/octet-stream]\n",
            "Saving to: ‘test.tar’\n",
            "\n",
            "test.tar            100%[===================>]  55.50M  20.4MB/s    in 2.7s    \n",
            "\n",
            "2022-11-10 17:24:50 (20.4 MB/s) - ‘test.tar’ saved [58196480/58196480]\n",
            "\n"
          ]
        }
      ]
    },
    {
      "cell_type": "markdown",
      "metadata": {
        "id": "P_-BpaZnLDmn"
      },
      "source": [
        "#**5. Création du fichier de labels \"classes.txt\"**"
      ]
    },
    {
      "cell_type": "code",
      "metadata": {
        "id": "70eR5xy2nNZP"
      },
      "source": [
        "!echo '%s\\n' 'fire' 'no_fire' 'start_fire'> classes.txt"
      ],
      "execution_count": 7,
      "outputs": []
    },
    {
      "cell_type": "code",
      "source": [
        "from google.colab import drive\n",
        "drive.mount('/content/drive')"
      ],
      "metadata": {
        "id": "xOpZcxvdptF3",
        "colab": {
          "base_uri": "https://localhost:8080/"
        },
        "outputId": "d209540a-5c2a-490c-cda7-1625653ec71a"
      },
      "execution_count": 8,
      "outputs": [
        {
          "output_type": "stream",
          "name": "stdout",
          "text": [
            "Mounted at /content/drive\n"
          ]
        }
      ]
    },
    {
      "cell_type": "markdown",
      "metadata": {
        "id": "YyXXoZphLN1-"
      },
      "source": [
        "#**6. Paramètres d'entrainement et sélection du modèle pré-entrainé**"
      ]
    },
    {
      "cell_type": "code",
      "source": [
        "!ls bases/"
      ],
      "metadata": {
        "colab": {
          "base_uri": "https://localhost:8080/"
        },
        "id": "hANxz2kKsMq4",
        "outputId": "0c6ddd7e-a8d5-417c-c1a4-b47e09748fe2"
      },
      "execution_count": null,
      "outputs": [
        {
          "output_type": "stream",
          "name": "stdout",
          "text": [
            "big  test\n"
          ]
        }
      ]
    },
    {
      "cell_type": "code",
      "metadata": {
        "id": "HwKf5hQLnUPi"
      },
      "source": [
        "nb_classes = 3\n",
        "batch_size=8 #@param [1,2,4,8,16,32,64,128] {type:\"raw\"}\n",
        "epochs=20 #@param [5, 10,20,50,100,200] {type:\"raw\"}\n",
        "#dataset_path = \"bases/\"\n",
        "dataset_path= \"bases\"\n",
        "input_dim=224 #@param [224,299] {type:\"raw\"}  \n",
        "dataset_name = \"big\" #@param [\"small\", \"big\", \"DB2\", \"DB3\"]\n",
        "train_dataset = os.path.join(dataset_path, dataset_name)\n",
        "test_name='test' #@param [\"test\",\"test1\",\"test2\",\"test3\"]\n",
        "test_dataset = os.path.join(dataset_path, test_name)\n",
        "classes_path = \"classes.txt\"\n",
        "classifier = \"ResNet50\" #@param [\"Xception\",\"VGG16\",\"VGG19\",\"ResNet50\",\"ResNet121\",\"ResNet152\",\"ResNet50V2\",\"ResNet121V2\",\"ResNet152V2\",\"InceptionV3\",\"InceptionResNetV2\",\"MobileNet\",\"MobileNetV2\",\"DenseNet121\",\"DenseNet169\",\"DenseNet201\",\"NASNetLarge\",\"NASNetMobile\"] {type:\"string\"}\n"
      ],
      "execution_count": 31,
      "outputs": []
    },
    {
      "cell_type": "markdown",
      "metadata": {
        "id": "7SBzh646b5yz"
      },
      "source": [
        "# **7. Compter le nombre de classes**"
      ]
    },
    {
      "cell_type": "code",
      "metadata": {
        "id": "NZ55HVhkb5y3"
      },
      "source": [
        "# Récupérer les noms des classes\n",
        "with open(classes_path, 'r') as f:\n",
        "    classes = f.readlines()\n",
        "    classes = list(map(lambda x: x.strip(), classes))\n",
        "num_classes = len(classes)"
      ],
      "execution_count": 11,
      "outputs": []
    },
    {
      "cell_type": "markdown",
      "metadata": {
        "id": "NTyWV0pQb5zD"
      },
      "source": [
        "# **8. Création du jeu de données d'entraînement  (A COMPLETER)**"
      ]
    },
    {
      "cell_type": "code",
      "source": [
        "from keras.preprocessing.image import ImageDataGenerator\n",
        "\n",
        "train_datagen = ImageDataGenerator(\n",
        "        rotation_range=40,\n",
        "        width_shift_range=0.2,\n",
        "        height_shift_range=0.2,\n",
        "    #    rescale=1./255,\n",
        "    #    zca_whitening=True,\n",
        "    #    zca_epsilon=1e-06,\n",
        "        brightness_range=[0.2,1],\n",
        "        fill_mode='nearest',\n",
        "        vertical_flip=False,\n",
        "        shear_range=0.2,\n",
        "        zoom_range=0.2,\n",
        "        horizontal_flip=True,\n",
        "        validation_split=0.2)\n",
        "\n",
        "\n",
        "# this is the augmentation configuration we will use for testing:\n",
        "# only rescaling\n",
        "test_datagen = ImageDataGenerator(rescale=1./255)\n",
        "\n",
        "# this is a generator that will read pictures found in\n",
        "# subfolers of 'data/train', and indefinitely generate\n",
        "# batches of augmented image data\n",
        "train_generator = train_datagen.flow_from_directory(\n",
        "        train_dataset,  # this is the target directory\n",
        "        target_size=(input_dim,input_dim),  # all images will be resized to 150x150\n",
        "        batch_size=batch_size,\n",
        "        seed=42,\n",
        "        subset=\"training\",\n",
        "        class_mode='categorical')  # since we use binary_crossentropy loss, we need binary labels\n",
        "\n",
        "# this is a similar generator, for validation data\n",
        "validation_generator = train_datagen.flow_from_directory(\n",
        "        train_dataset,\n",
        "        target_size=(input_dim,input_dim),\n",
        "        seed=42,\n",
        "        subset=\"validation\",           # Sélection du jeu de données d'entraînement\n",
        "        batch_size=batch_size,\n",
        "        class_mode='categorical')"
      ],
      "metadata": {
        "colab": {
          "base_uri": "https://localhost:8080/"
        },
        "id": "RQs_BE0h_lQv",
        "outputId": "105d21aa-e75a-46f4-ce30-6c51517f8d53"
      },
      "execution_count": 32,
      "outputs": [
        {
          "output_type": "stream",
          "name": "stdout",
          "text": [
            "Found 4803 images belonging to 3 classes.\n",
            "Found 1200 images belonging to 3 classes.\n"
          ]
        }
      ]
    },
    {
      "cell_type": "markdown",
      "metadata": {
        "id": "ji2AfPd88PC-"
      },
      "source": [
        "#**9. Créer le jeu de validation (A COMPLETER : même générateur, One-Hot, jeu \"validation\")**"
      ]
    },
    {
      "cell_type": "markdown",
      "metadata": {
        "id": "Wi8oBrIJWa5s"
      },
      "source": [
        "# **10. Télécharger un modèle préentraîné et appliquer le Transfer Learning**\n",
        "\n"
      ]
    },
    {
      "cell_type": "code",
      "metadata": {
        "id": "_WCBo9Oyb5zc"
      },
      "source": [
        "from keras.applications.inception_v3 import InceptionV3\n",
        "from keras.applications.resnet import ResNet50\n",
        "from keras import activations\n",
        "\n",
        "#base_model = MobileNet(include_top=False,weights=\"imagenet\",input_shape=(input_dim,input_dim,3))\n",
        "base_model = ResNet50(include_top=False,weights=\"imagenet\",input_shape=(input_dim,input_dim,3))\n",
        "for layer in base_model.layers:\n",
        "  layer.freeze=False\n",
        "\n",
        "x=base_model.output\n",
        "x=GlobalAveragePooling2D()(x)\n",
        "#x= Dense(1024,activation=\"relu\")(x)\n",
        "#x= Dense(512,activation=\"sigmoid\")(x)\n",
        "x= Dense(256,activation=\"relu\")(x)\n",
        "#x= Dense(128,activation=\"relu\")(x)\n",
        "#x= Dense(64,activation=\"relu\")(x)\n",
        "\n",
        "x = Dropout(0.2)(x)\n",
        "y = Dense(nb_classes,activation=\"softmax\")(x)\n",
        "\n",
        "model = Model(inputs=base_model.input,outputs=y)"
      ],
      "execution_count": 33,
      "outputs": []
    },
    {
      "cell_type": "markdown",
      "source": [
        "# **11. Geler puis dégeler les poids des premières couches**"
      ],
      "metadata": {
        "id": "YRkLslfSCr_P"
      }
    },
    {
      "cell_type": "code",
      "source": [
        "model.summary()"
      ],
      "metadata": {
        "id": "oa1ExIkcDAno"
      },
      "execution_count": null,
      "outputs": []
    },
    {
      "cell_type": "markdown",
      "source": [
        "# **11. Compiler le modèle avec la descente de gradient stochastique DSG**\n"
      ],
      "metadata": {
        "id": "ItQJ7cVfCAXI"
      }
    },
    {
      "cell_type": "code",
      "source": [
        "# recompiler le modèle\n",
        "model.compile(loss=\"CategoricalCrossentropy\",optimizer=\"Adam\",metrics=[\"accuracy\"])"
      ],
      "metadata": {
        "id": "4wUoldu92n-b"
      },
      "execution_count": 35,
      "outputs": []
    },
    {
      "cell_type": "markdown",
      "metadata": {
        "id": "q6CWnXEPb5zX"
      },
      "source": [
        "# **12. Entraîner le modèle**"
      ]
    },
    {
      "cell_type": "code",
      "metadata": {
        "id": "GPGAZ2Vab5zo",
        "colab": {
          "base_uri": "https://localhost:8080/"
        },
        "outputId": "63ef6324-804d-4669-b2ef-5fbdca678eca"
      },
      "source": [
        "\n",
        "# seed_everything()\n",
        "# tf.config.experimental.enable_op_determinism()\n",
        "\n",
        "model_cp = ModelCheckpoint(\"/content/drive/MyDrive/MyModels/resnet50_f_checkpoint.h5\",monitor=\"val_accuracy\",save_best_only=True,verbose=1)\n",
        "\n",
        "early_stopping = EarlyStopping(monitor=\"val_accuracy\",patience=5)\n",
        "\n",
        "history=model.fit(train_generator,validation_data=validation_generator,epochs=10,callbacks=[model_cp,early_stopping],shuffle=True)\n"
      ],
      "execution_count": 36,
      "outputs": [
        {
          "output_type": "stream",
          "name": "stdout",
          "text": [
            "Epoch 1/10\n",
            "601/601 [==============================] - ETA: 0s - loss: 0.7990 - accuracy: 0.7096"
          ]
        },
        {
          "output_type": "stream",
          "name": "stderr",
          "text": [
            "/usr/local/lib/python3.7/dist-packages/PIL/TiffImagePlugin.py:770: UserWarning: Possibly corrupt EXIF data.  Expecting to read 20 bytes but only got 19. Skipping tag 36867\n",
            "  \" Skipping tag %s\" % (size, len(data), tag)\n",
            "/usr/local/lib/python3.7/dist-packages/PIL/Image.py:960: UserWarning: Palette images with Transparency expressed in bytes should be converted to RGBA images\n",
            "  \"Palette images with Transparency expressed in bytes should be \"\n"
          ]
        },
        {
          "output_type": "stream",
          "name": "stdout",
          "text": [
            "\n",
            "Epoch 1: val_accuracy improved from -inf to 0.59500, saving model to /content/drive/MyDrive/MyModels/resnet50_f_checkpoint.h5\n",
            "601/601 [==============================] - 200s 323ms/step - loss: 0.7990 - accuracy: 0.7096 - val_loss: 0.9959 - val_accuracy: 0.5950\n",
            "Epoch 2/10\n",
            "601/601 [==============================] - ETA: 0s - loss: 0.5235 - accuracy: 0.8099\n",
            "Epoch 2: val_accuracy improved from 0.59500 to 0.72250, saving model to /content/drive/MyDrive/MyModels/resnet50_f_checkpoint.h5\n",
            "601/601 [==============================] - 194s 322ms/step - loss: 0.5235 - accuracy: 0.8099 - val_loss: 0.8258 - val_accuracy: 0.7225\n",
            "Epoch 3/10\n",
            "601/601 [==============================] - ETA: 0s - loss: 0.4424 - accuracy: 0.8314\n",
            "Epoch 3: val_accuracy did not improve from 0.72250\n",
            "601/601 [==============================] - 189s 314ms/step - loss: 0.4424 - accuracy: 0.8314 - val_loss: 1.4420 - val_accuracy: 0.6067\n",
            "Epoch 4/10\n",
            "601/601 [==============================] - ETA: 0s - loss: 0.3741 - accuracy: 0.8661\n",
            "Epoch 4: val_accuracy improved from 0.72250 to 0.83833, saving model to /content/drive/MyDrive/MyModels/resnet50_f_checkpoint.h5\n",
            "601/601 [==============================] - 192s 319ms/step - loss: 0.3741 - accuracy: 0.8661 - val_loss: 0.4924 - val_accuracy: 0.8383\n",
            "Epoch 5/10\n",
            "601/601 [==============================] - ETA: 0s - loss: 0.3386 - accuracy: 0.8780\n",
            "Epoch 5: val_accuracy did not improve from 0.83833\n",
            "601/601 [==============================] - 190s 316ms/step - loss: 0.3386 - accuracy: 0.8780 - val_loss: 0.7477 - val_accuracy: 0.7150\n",
            "Epoch 6/10\n",
            "601/601 [==============================] - ETA: 0s - loss: 0.3144 - accuracy: 0.8940\n",
            "Epoch 6: val_accuracy did not improve from 0.83833\n",
            "601/601 [==============================] - 189s 314ms/step - loss: 0.3144 - accuracy: 0.8940 - val_loss: 1.2152 - val_accuracy: 0.6675\n",
            "Epoch 7/10\n",
            "601/601 [==============================] - ETA: 0s - loss: 0.2954 - accuracy: 0.8982\n",
            "Epoch 7: val_accuracy did not improve from 0.83833\n",
            "601/601 [==============================] - 187s 311ms/step - loss: 0.2954 - accuracy: 0.8982 - val_loss: 1.2455 - val_accuracy: 0.6925\n",
            "Epoch 8/10\n",
            "601/601 [==============================] - ETA: 0s - loss: 0.2909 - accuracy: 0.9003\n",
            "Epoch 8: val_accuracy did not improve from 0.83833\n",
            "601/601 [==============================] - 188s 312ms/step - loss: 0.2909 - accuracy: 0.9003 - val_loss: 1.0833 - val_accuracy: 0.7242\n",
            "Epoch 9/10\n",
            "601/601 [==============================] - ETA: 0s - loss: 0.2745 - accuracy: 0.8996\n",
            "Epoch 9: val_accuracy did not improve from 0.83833\n",
            "601/601 [==============================] - 188s 313ms/step - loss: 0.2745 - accuracy: 0.8996 - val_loss: 1.0679 - val_accuracy: 0.7108\n"
          ]
        }
      ]
    },
    {
      "cell_type": "markdown",
      "metadata": {
        "id": "xVOg-VgI9YMB"
      },
      "source": [
        "#**13. Sauvegarder le modèle final (A COMPLETER)**\n"
      ]
    },
    {
      "cell_type": "code",
      "metadata": {
        "id": "BbAlAYpm9fg5"
      },
      "source": [
        "model.save(\"final_model.h5\")"
      ],
      "execution_count": 37,
      "outputs": []
    },
    {
      "cell_type": "markdown",
      "source": [],
      "metadata": {
        "id": "bnaeA1bv2pc1"
      }
    },
    {
      "cell_type": "code",
      "metadata": {
        "id": "QtIwdjee_KLk",
        "colab": {
          "base_uri": "https://localhost:8080/",
          "height": 295
        },
        "outputId": "4f4fe999-3392-4df6-f9e1-edb10fe80a32"
      },
      "source": [
        "plt.plot(history.history['accuracy'])\n",
        "plt.plot(history.history['val_accuracy'])\n",
        "plt.title('model accuracy')\n",
        "plt.ylabel('accuracy')\n",
        "plt.xlabel('epoch')\n",
        "plt.legend(['train', 'val'], loc='upper left')\n",
        "plt.show()"
      ],
      "execution_count": 38,
      "outputs": [
        {
          "output_type": "display_data",
          "data": {
            "text/plain": [
              "<Figure size 432x288 with 1 Axes>"
            ],
            "image/png": "[encoded data removed]"
          },
          "metadata": {
            "needs_background": "light"
          }
        }
      ]
    },
    {
      "cell_type": "markdown",
      "source": [
        "# **15. Créer le jeu de données de test**"
      ],
      "metadata": {
        "id": "ZgVB5J2yDOul"
      }
    },
    {
      "cell_type": "code",
      "source": [
        "# test_ds = tf.keras.preprocessing.image_dataset_from_directory(\n",
        "# \ttest_dataset,               # chemin vers le jeu de données\n",
        "# \tseed=42,                     # Initialisation du générateur aléatoire (permutations)\n",
        "# \timage_size=(input_dim,input_dim),   # Taille des images d'entrée\n",
        "# \tbatch_size=32,\n",
        "#   shuffle=False,   # Taille du mini-batch\n",
        "#   label_mode=\"categorical\"    # Conversion au format One-Hot\n",
        "# )\n",
        "\n",
        "test_datagen = ImageDataGenerator()\n",
        "\n",
        "test_generator = test_datagen.flow_from_directory(\n",
        "        test_dataset,  # this is the target directory\n",
        "        target_size=(input_dim,input_dim),  # all images will be resized to 150x150\n",
        "        batch_size=batch_size,\n",
        "        seed=42,\n",
        "        class_mode='categorical')  # since we use binary_crossentropy loss, we need binary labels\n",
        "\n"
      ],
      "metadata": {
        "id": "c0srm2t6-TMK",
        "colab": {
          "base_uri": "https://localhost:8080/"
        },
        "outputId": "133e5bde-0ecd-46cf-add3-036652f42326"
      },
      "execution_count": 39,
      "outputs": [
        {
          "output_type": "stream",
          "name": "stdout",
          "text": [
            "Found 210 images belonging to 3 classes.\n"
          ]
        }
      ]
    },
    {
      "cell_type": "markdown",
      "source": [
        "# **16. Evaluer le modèle avec ce jeu de données de test**"
      ],
      "metadata": {
        "id": "sA3Dc4ONDdS_"
      }
    },
    {
      "cell_type": "code",
      "source": [
        "model.load_weights(\"best_checkpoint.2.h5\")"
      ],
      "metadata": {
        "id": "7sghKVcmqEbH"
      },
      "execution_count": null,
      "outputs": []
    },
    {
      "cell_type": "code",
      "source": [
        "model.load_weights(\"/content/drive/MyDrive/MyModels/resnet50_f_checkpoint.h5\")"
      ],
      "metadata": {
        "id": "UKxWc8Mgt9c9"
      },
      "execution_count": 40,
      "outputs": []
    },
    {
      "cell_type": "code",
      "source": [
        "model.evaluate(test_generator)"
      ],
      "metadata": {
        "colab": {
          "base_uri": "https://localhost:8080/"
        },
        "id": "mcxTkzmzrnOM",
        "outputId": "4af0aefb-02d7-4782-bc0f-c96be84f38e3"
      },
      "execution_count": 41,
      "outputs": [
        {
          "output_type": "stream",
          "name": "stdout",
          "text": [
            "27/27 [==============================] - 5s 171ms/step - loss: 0.6941 - accuracy: 0.7810\n"
          ]
        },
        {
          "output_type": "execute_result",
          "data": {
            "text/plain": [
              "[0.6941184401512146, 0.7809523940086365]"
            ]
          },
          "metadata": {},
          "execution_count": 41
        }
      ]
    },
    {
      "cell_type": "markdown",
      "source": [
        "with last checkpoint"
      ],
      "metadata": {
        "id": "qvQJfqsfb_9V"
      }
    },
    {
      "cell_type": "code",
      "source": [
        "model.evaluate(test_generator)"
      ],
      "metadata": {
        "id": "cqDwUpZg-kXC",
        "colab": {
          "base_uri": "https://localhost:8080/"
        },
        "outputId": "54e55236-709c-4575-8d09-f6e990f5af04"
      },
      "execution_count": null,
      "outputs": [
        {
          "output_type": "stream",
          "name": "stdout",
          "text": [
            "27/27 [==============================] - 4s 147ms/step - loss: 1.3395 - accuracy: 0.5762\n"
          ]
        },
        {
          "output_type": "execute_result",
          "data": {
            "text/plain": [
              "[1.3395472764968872, 0.5761904716491699]"
            ]
          },
          "metadata": {},
          "execution_count": 57
        }
      ]
    },
    {
      "cell_type": "markdown",
      "source": [
        "with best checkpoint"
      ],
      "metadata": {
        "id": "NhupWlNPcEGc"
      }
    },
    {
      "cell_type": "code",
      "source": [
        "!unzip  \"/content/drive/MyDrive/dataset_fire/archive (1).zip\" -d /content/drive/MyDrive/dataset_fire/dataset_aux"
      ],
      "metadata": {
        "id": "EtWlR6eJk3Rp"
      },
      "execution_count": null,
      "outputs": []
    },
    {
      "cell_type": "code",
      "source": [
        "!cp /content/drive/MyDrive/dataset_fire/dataset_aux/ForestFireDataset/Training/fire/* /content/drive/MyDrive/dataset_fire/small/fire/ "
      ],
      "metadata": {
        "id": "yREPBL9ZmaU_"
      },
      "execution_count": null,
      "outputs": []
    },
    {
      "cell_type": "code",
      "source": [
        "!cp /content/drive/MyDrive/dataset_fire/dataset_aux/ForestFireDataset/Training/nofire/* /content/drive/MyDrive/dataset_fire/small/no_fire/ "
      ],
      "metadata": {
        "id": "wIVGnlpLnG84"
      },
      "execution_count": null,
      "outputs": []
    },
    {
      "cell_type": "code",
      "source": [],
      "metadata": {
        "id": "2-jx0jUNnbn8"
      },
      "execution_count": null,
      "outputs": []
    },
    {
      "cell_type": "code",
      "source": [
        "!cp -r bases/ drive/MyDrive/dataset_fire"
      ],
      "metadata": {
        "id": "juzJpDXbc9zV"
      },
      "execution_count": null,
      "outputs": []
    },
    {
      "cell_type": "code",
      "source": [
        "!cp best_checkpoint.h5 drive/MyDrive/InceptionV3_checkpoint.h5"
      ],
      "metadata": {
        "id": "PdVhbnmEc3Xx"
      },
      "execution_count": null,
      "outputs": []
    },
    {
      "cell_type": "code",
      "source": [
        "!cp final_model.h5 drive/MyDrive/Xception_checkpoint__.h5"
      ],
      "metadata": {
        "id": "u_i-BbtZLKbl"
      },
      "execution_count": null,
      "outputs": []
    },
    {
      "cell_type": "code",
      "source": [
        "model.evaluate(test_generator)"
      ],
      "metadata": {
        "colab": {
          "base_uri": "https://localhost:8080/"
        },
        "id": "R21jF4a9r6hQ",
        "outputId": "7ef6d5cd-f824-43f9-ff83-4ce098d9bbce"
      },
      "execution_count": null,
      "outputs": [
        {
          "output_type": "stream",
          "name": "stdout",
          "text": [
            "27/27 [==============================] - 4s 146ms/step - loss: 0.6675 - accuracy: 0.8238\n"
          ]
        },
        {
          "output_type": "execute_result",
          "data": {
            "text/plain": [
              "[0.6675105690956116, 0.8238095045089722]"
            ]
          },
          "metadata": {},
          "execution_count": 31
        }
      ]
    },
    {
      "cell_type": "markdown",
      "metadata": {
        "id": "oECfYKSp_MaQ"
      },
      "source": [
        "#**16. Tester le modèle avec une image de test: \"fire.jpg\" et \"no_fire.jpg (A COMPLETER)\"**"
      ]
    },
    {
      "cell_type": "code",
      "metadata": {
        "id": "NwCnXVtKESUf",
        "colab": {
          "base_uri": "https://localhost:8080/",
          "height": 333
        },
        "outputId": "879e27a7-0f18-4102-e062-f8d164bd27a3"
      },
      "source": [
        "files.upload()"
      ],
      "execution_count": null,
      "outputs": [
        {
          "output_type": "display_data",
          "data": {
            "text/plain": [
              "<IPython.core.display.HTML object>"
            ],
            "text/html": [
              "\n",
              "     <input type=\"file\" id=\"files-95be2fbf-a5ab-4ffc-a718-3a9e1f7eefbd\" name=\"files[]\" multiple disabled\n",
              "        style=\"border:none\" />\n",
              "     <output id=\"result-95be2fbf-a5ab-4ffc-a718-3a9e1f7eefbd\">\n",
              "      Upload widget is only available when the cell has been executed in the\n",
              "      current browser session. Please rerun this cell to enable.\n",
              "      </output>\n",
              "      <script>// Copyright 2017 Google LLC\n",
              "//\n",
              "// Licensed under the Apache License, Version 2.0 (the \"License\");\n",
              "// you may not use this file except in compliance with the License.\n",
              "// You may obtain a copy of the License at\n",
              "//\n",
              "//      http://www.apache.org/licenses/LICENSE-2.0\n",
              "//\n",
              "// Unless required by applicable law or agreed to in writing, software\n",
              "// distributed under the License is distributed on an \"AS IS\" BASIS,\n",
              "// WITHOUT WARRANTIES OR CONDITIONS OF ANY KIND, either express or implied.\n",
              "// See the License for the specific language governing permissions and\n",
              "// limitations under the License.\n",
              "\n",
              "/**\n",
              " * @fileoverview Helpers for google.colab Python module.\n",
              " */\n",
              "(function(scope) {\n",
              "function span(text, styleAttributes = {}) {\n",
              "  const element = document.createElement('span');\n",
              "  element.textContent = text;\n",
              "  for (const key of Object.keys(styleAttributes)) {\n",
              "    element.style[key] = styleAttributes[key];\n",
              "  }\n",
              "  return element;\n",
              "}\n",
              "\n",
              "// Max number of bytes which will be uploaded at a time.\n",
              "const MAX_PAYLOAD_SIZE = 100 * 1024;\n",
              "\n",
              "function _uploadFiles(inputId, outputId) {\n",
              "  const steps = uploadFilesStep(inputId, outputId);\n",
              "  const outputElement = document.getElementById(outputId);\n",
              "  // Cache steps on the outputElement to make it available for the next call\n",
              "  // to uploadFilesContinue from Python.\n",
              "  outputElement.steps = steps;\n",
              "\n",
              "  return _uploadFilesContinue(outputId);\n",
              "}\n",
              "\n",
              "// This is roughly an async generator (not supported in the browser yet),\n",
              "// where there are multiple asynchronous steps and the Python side is going\n",
              "// to poll for completion of each step.\n",
              "// This uses a Promise to block the python side on completion of each step,\n",
              "// then passes the result of the previous step as the input to the next step.\n",
              "function _uploadFilesContinue(outputId) {\n",
              "  const outputElement = document.getElementById(outputId);\n",
              "  const steps = outputElement.steps;\n",
              "\n",
              "  const next = steps.next(outputElement.lastPromiseValue);\n",
              "  return Promise.resolve(next.value.promise).then((value) => {\n",
              "    // Cache the last promise value to make it available to the next\n",
              "    // step of the generator.\n",
              "    outputElement.lastPromiseValue = value;\n",
              "    return next.value.response;\n",
              "  });\n",
              "}\n",
              "\n",
              "/**\n",
              " * Generator function which is called between each async step of the upload\n",
              " * process.\n",
              " * @param {string} inputId Element ID of the input file picker element.\n",
              " * @param {string} outputId Element ID of the output display.\n",
              " * @return {!Iterable<!Object>} Iterable of next steps.\n",
              " */\n",
              "function* uploadFilesStep(inputId, outputId) {\n",
              "  const inputElement = document.getElementById(inputId);\n",
              "  inputElement.disabled = false;\n",
              "\n",
              "  const outputElement = document.getElementById(outputId);\n",
              "  outputElement.innerHTML = '';\n",
              "\n",
              "  const pickedPromise = new Promise((resolve) => {\n",
              "    inputElement.addEventListener('change', (e) => {\n",
              "      resolve(e.target.files);\n",
              "    });\n",
              "  });\n",
              "\n",
              "  const cancel = document.createElement('button');\n",
              "  inputElement.parentElement.appendChild(cancel);\n",
              "  cancel.textContent = 'Cancel upload';\n",
              "  const cancelPromise = new Promise((resolve) => {\n",
              "    cancel.onclick = () => {\n",
              "      resolve(null);\n",
              "    };\n",
              "  });\n",
              "\n",
              "  // Wait for the user to pick the files.\n",
              "  const files = yield {\n",
              "    promise: Promise.race([pickedPromise, cancelPromise]),\n",
              "    response: {\n",
              "      action: 'starting',\n",
              "    }\n",
              "  };\n",
              "\n",
              "  cancel.remove();\n",
              "\n",
              "  // Disable the input element since further picks are not allowed.\n",
              "  inputElement.disabled = true;\n",
              "\n",
              "  if (!files) {\n",
              "    return {\n",
              "      response: {\n",
              "        action: 'complete',\n",
              "      }\n",
              "    };\n",
              "  }\n",
              "\n",
              "  for (const file of files) {\n",
              "    const li = document.createElement('li');\n",
              "    li.append(span(file.name, {fontWeight: 'bold'}));\n",
              "    li.append(span(\n",
              "        `(${file.type || 'n/a'}) - ${file.size} bytes, ` +\n",
              "        `last modified: ${\n",
              "            file.lastModifiedDate ? file.lastModifiedDate.toLocaleDateString() :\n",
              "                                    'n/a'} - `));\n",
              "    const percent = span('0% done');\n",
              "    li.appendChild(percent);\n",
              "\n",
              "    outputElement.appendChild(li);\n",
              "\n",
              "    const fileDataPromise = new Promise((resolve) => {\n",
              "      const reader = new FileReader();\n",
              "      reader.onload = (e) => {\n",
              "        resolve(e.target.result);\n",
              "      };\n",
              "      reader.readAsArrayBuffer(file);\n",
              "    });\n",
              "    // Wait for the data to be ready.\n",
              "    let fileData = yield {\n",
              "      promise: fileDataPromise,\n",
              "      response: {\n",
              "        action: 'continue',\n",
              "      }\n",
              "    };\n",
              "\n",
              "    // Use a chunked sending to avoid message size limits. See b/62115660.\n",
              "    let position = 0;\n",
              "    do {\n",
              "      const length = Math.min(fileData.byteLength - position, MAX_PAYLOAD_SIZE);\n",
              "      const chunk = new Uint8Array(fileData, position, length);\n",
              "      position += length;\n",
              "\n",
              "      const base64 = btoa(String.fromCharCode.apply(null, chunk));\n",
              "      yield {\n",
              "        response: {\n",
              "          action: 'append',\n",
              "          file: file.name,\n",
              "          data: base64,\n",
              "        },\n",
              "      };\n",
              "\n",
              "      let percentDone = fileData.byteLength === 0 ?\n",
              "          100 :\n",
              "          Math.round((position / fileData.byteLength) * 100);\n",
              "      percent.textContent = `${percentDone}% done`;\n",
              "\n",
              "    } while (position < fileData.byteLength);\n",
              "  }\n",
              "\n",
              "  // All done.\n",
              "  yield {\n",
              "    response: {\n",
              "      action: 'complete',\n",
              "    }\n",
              "  };\n",
              "}\n",
              "\n",
              "scope.google = scope.google || {};\n",
              "scope.google.colab = scope.google.colab || {};\n",
              "scope.google.colab._files = {\n",
              "  _uploadFiles,\n",
              "  _uploadFilesContinue,\n",
              "};\n",
              "})(self);\n",
              "</script> "
            ]
          },
          "metadata": {}
        },
        {
          "output_type": "error",
          "ename": "KeyboardInterrupt",
          "evalue": "ignored",
          "traceback": [
            "\u001b[0;31m---------------------------------------------------------------------------\u001b[0m",
            "\u001b[0;31mKeyboardInterrupt\u001b[0m                         Traceback (most recent call last)",
            "\u001b[0;32m<ipython-input-21-63b259460c61>\u001b[0m in \u001b[0;36m<module>\u001b[0;34m\u001b[0m\n\u001b[0;32m----> 1\u001b[0;31m \u001b[0mfiles\u001b[0m\u001b[0;34m.\u001b[0m\u001b[0mupload\u001b[0m\u001b[0;34m(\u001b[0m\u001b[0;34m)\u001b[0m\u001b[0;34m\u001b[0m\u001b[0;34m\u001b[0m\u001b[0m\n\u001b[0m",
            "\u001b[0;32m/usr/local/lib/python3.7/dist-packages/google/colab/files.py\u001b[0m in \u001b[0;36mupload\u001b[0;34m()\u001b[0m\n\u001b[1;32m     65\u001b[0m   \"\"\"\n\u001b[1;32m     66\u001b[0m \u001b[0;34m\u001b[0m\u001b[0m\n\u001b[0;32m---> 67\u001b[0;31m   \u001b[0muploaded_files\u001b[0m \u001b[0;34m=\u001b[0m \u001b[0m_upload_files\u001b[0m\u001b[0;34m(\u001b[0m\u001b[0mmultiple\u001b[0m\u001b[0;34m=\u001b[0m\u001b[0;32mTrue\u001b[0m\u001b[0;34m)\u001b[0m\u001b[0;34m\u001b[0m\u001b[0;34m\u001b[0m\u001b[0m\n\u001b[0m\u001b[1;32m     68\u001b[0m   \u001b[0;31m# Mapping from original filename to filename as saved locally.\u001b[0m\u001b[0;34m\u001b[0m\u001b[0;34m\u001b[0m\u001b[0;34m\u001b[0m\u001b[0m\n\u001b[1;32m     69\u001b[0m   \u001b[0mlocal_filenames\u001b[0m \u001b[0;34m=\u001b[0m \u001b[0mdict\u001b[0m\u001b[0;34m(\u001b[0m\u001b[0;34m)\u001b[0m\u001b[0;34m\u001b[0m\u001b[0;34m\u001b[0m\u001b[0m\n",
            "\u001b[0;32m/usr/local/lib/python3.7/dist-packages/google/colab/files.py\u001b[0m in \u001b[0;36m_upload_files\u001b[0;34m(multiple)\u001b[0m\n\u001b[1;32m    144\u001b[0m   result = _output.eval_js(\n\u001b[1;32m    145\u001b[0m       'google.colab._files._uploadFiles(\"{input_id}\", \"{output_id}\")'.format(\n\u001b[0;32m--> 146\u001b[0;31m           input_id=input_id, output_id=output_id))\n\u001b[0m\u001b[1;32m    147\u001b[0m   \u001b[0mfiles\u001b[0m \u001b[0;34m=\u001b[0m \u001b[0m_collections\u001b[0m\u001b[0;34m.\u001b[0m\u001b[0mdefaultdict\u001b[0m\u001b[0;34m(\u001b[0m\u001b[0mbytes\u001b[0m\u001b[0;34m)\u001b[0m\u001b[0;34m\u001b[0m\u001b[0;34m\u001b[0m\u001b[0m\n\u001b[1;32m    148\u001b[0m \u001b[0;34m\u001b[0m\u001b[0m\n",
            "\u001b[0;32m/usr/local/lib/python3.7/dist-packages/google/colab/output/_js.py\u001b[0m in \u001b[0;36meval_js\u001b[0;34m(script, ignore_result, timeout_sec)\u001b[0m\n\u001b[1;32m     38\u001b[0m   \u001b[0;32mif\u001b[0m \u001b[0mignore_result\u001b[0m\u001b[0;34m:\u001b[0m\u001b[0;34m\u001b[0m\u001b[0;34m\u001b[0m\u001b[0m\n\u001b[1;32m     39\u001b[0m     \u001b[0;32mreturn\u001b[0m\u001b[0;34m\u001b[0m\u001b[0;34m\u001b[0m\u001b[0m\n\u001b[0;32m---> 40\u001b[0;31m   \u001b[0;32mreturn\u001b[0m \u001b[0m_message\u001b[0m\u001b[0;34m.\u001b[0m\u001b[0mread_reply_from_input\u001b[0m\u001b[0;34m(\u001b[0m\u001b[0mrequest_id\u001b[0m\u001b[0;34m,\u001b[0m \u001b[0mtimeout_sec\u001b[0m\u001b[0;34m)\u001b[0m\u001b[0;34m\u001b[0m\u001b[0;34m\u001b[0m\u001b[0m\n\u001b[0m\u001b[1;32m     41\u001b[0m \u001b[0;34m\u001b[0m\u001b[0m\n\u001b[1;32m     42\u001b[0m \u001b[0;34m\u001b[0m\u001b[0m\n",
            "\u001b[0;32m/usr/local/lib/python3.7/dist-packages/google/colab/_message.py\u001b[0m in \u001b[0;36mread_reply_from_input\u001b[0;34m(message_id, timeout_sec)\u001b[0m\n\u001b[1;32m     95\u001b[0m     \u001b[0mreply\u001b[0m \u001b[0;34m=\u001b[0m \u001b[0m_read_next_input_message\u001b[0m\u001b[0;34m(\u001b[0m\u001b[0;34m)\u001b[0m\u001b[0;34m\u001b[0m\u001b[0;34m\u001b[0m\u001b[0m\n\u001b[1;32m     96\u001b[0m     \u001b[0;32mif\u001b[0m \u001b[0mreply\u001b[0m \u001b[0;34m==\u001b[0m \u001b[0m_NOT_READY\u001b[0m \u001b[0;32mor\u001b[0m \u001b[0;32mnot\u001b[0m \u001b[0misinstance\u001b[0m\u001b[0;34m(\u001b[0m\u001b[0mreply\u001b[0m\u001b[0;34m,\u001b[0m \u001b[0mdict\u001b[0m\u001b[0;34m)\u001b[0m\u001b[0;34m:\u001b[0m\u001b[0;34m\u001b[0m\u001b[0;34m\u001b[0m\u001b[0m\n\u001b[0;32m---> 97\u001b[0;31m       \u001b[0mtime\u001b[0m\u001b[0;34m.\u001b[0m\u001b[0msleep\u001b[0m\u001b[0;34m(\u001b[0m\u001b[0;36m0.025\u001b[0m\u001b[0;34m)\u001b[0m\u001b[0;34m\u001b[0m\u001b[0;34m\u001b[0m\u001b[0m\n\u001b[0m\u001b[1;32m     98\u001b[0m       \u001b[0;32mcontinue\u001b[0m\u001b[0;34m\u001b[0m\u001b[0;34m\u001b[0m\u001b[0m\n\u001b[1;32m     99\u001b[0m     if (reply.get('type') == 'colab_reply' and\n",
            "\u001b[0;31mKeyboardInterrupt\u001b[0m: "
          ]
        }
      ]
    },
    {
      "cell_type": "code",
      "source": [
        "train_ds.class_names"
      ],
      "metadata": {
        "colab": {
          "base_uri": "https://localhost:8080/"
        },
        "id": "4tUcESh_sFxg",
        "outputId": "6b3d1b5c-056b-483e-cdf0-31e59aab4778"
      },
      "execution_count": null,
      "outputs": [
        {
          "output_type": "execute_result",
          "data": {
            "text/plain": [
              "['fire', 'no_fire', 'start_fire']"
            ]
          },
          "metadata": {},
          "execution_count": 22
        }
      ]
    },
    {
      "cell_type": "code",
      "metadata": {
        "id": "N_JRsQoh_chG",
        "colab": {
          "base_uri": "https://localhost:8080/",
          "height": 309
        },
        "outputId": "0b39c304-7d65-4b3e-e39c-6de60ae300af"
      },
      "source": [
        "%matplotlib inline\n",
        "\n",
        "classes = train_ds.class_names\n",
        "image_path =  \"/content/bases/test/start_fire/test104.jpg\"\n",
        "\n",
        "img = Image.open(image_path).convert('RGB')\n",
        "x = tf.keras.utils.img_to_array(img,data_format='channels_last')\n",
        "x = tf.keras.preprocessing.image.smart_resize(x, size=(224,224))\n",
        "x = np.expand_dims(x, axis=0)\n",
        "\n",
        "# predict\n",
        "pred = model.predict(x,batch_size=1)[0]\n",
        "\n",
        "for (pos,prob) in enumerate(pred):\n",
        "    class_name = classes[pos]\n",
        "    if (pos == np.argmax(pred)) :\n",
        "        img = cv2.imread(image_path)\n",
        "        img = cv2.cvtColor(img, cv2.COLOR_BGR2RGB)\n",
        "        font = cv2.FONT_HERSHEY_COMPLEX \n",
        "        textsize = cv2.getTextSize(class_name, font, 1, 2)[0]\n",
        "        textX = (img.shape[1] - textsize[0]) / 2\n",
        "        textY = (img.shape[0] + textsize[1]) / 2\n",
        "        cv2.putText(img, class_name, (int(textX)-10, int(textY)), font, 2, (255,0,0), 6, cv2.LINE_AA)\n",
        "        plt.imshow(img)\n",
        "    #print(\"Top %d ====================\" % (i + 1))\n",
        "    print(\"Class Name : %s\" % (class_name), \"---\", \"Class Probability: %.2f%%\" % (prob*100))\n",
        "plt.show()"
      ],
      "execution_count": null,
      "outputs": [
        {
          "output_type": "stream",
          "name": "stdout",
          "text": [
            "1/1 [==============================] - 0s 76ms/step\n",
            "Class Name : fire --- Class Probability: 0.00%\n",
            "Class Name : no_fire --- Class Probability: 67.42%\n",
            "Class Name : start_fire --- Class Probability: 32.58%\n"
          ]
        },
        {
          "output_type": "display_data",
          "data": {
            "text/plain": [
              "<Figure size 432x288 with 1 Axes>"
            ],
            "image/png": "[encoded data removed]"
          },
          "metadata": {
            "needs_background": "light"
          }
        }
      ]
    },
    {
      "cell_type": "code",
      "source": [],
      "metadata": {
        "id": "iE-WrC38tMiB"
      },
      "execution_count": null,
      "outputs": []
    }
  ]
}