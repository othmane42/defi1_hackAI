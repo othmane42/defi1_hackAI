{
  "cells": [
    {
      "cell_type": "markdown",
      "metadata": {
        "id": "view-in-github",
        "colab_type": "text"
      },
      "source": [
        "<a href=\"https://colab.research.google.com/github/othmane42/defi1_hackAI/blob/main/3_Input_classification_2022.ipynb\" target=\"_parent\"><img src=\"https://colab.research.google.com/assets/colab-badge.svg\" alt=\"Open In Colab\"/></a>"
      ]
    },
    {
      "cell_type": "markdown",
      "metadata": {
        "id": "iK6fZUXolwPs"
      },
      "source": [
        "# **1. Matériel : vérifier que le GPU est bien sélectionné (A COMPLETER)**"
      ]
    },
    {
      "cell_type": "code",
      "execution_count": null,
      "metadata": {
        "id": "_UEjh8Rulquq"
      },
      "outputs": [],
      "source": [
        "# ?????????????????????????????????????\n",
        "# ?????????????????????????????????????"
      ]
    },
    {
      "cell_type": "markdown",
      "metadata": {
        "id": "QrtS3fRhb5x6"
      },
      "source": [
        "# **2. Importation des librairies**"
      ]
    },
    {
      "cell_type": "code",
      "execution_count": 2,
      "metadata": {
        "colab": {
          "base_uri": "https://localhost:8080/"
        },
        "id": "MS3XuLGyb5x_",
        "outputId": "0ae62650-f28d-479c-ef0d-2c2d22c75012"
      },
      "outputs": [
        {
          "output_type": "stream",
          "name": "stdout",
          "text": [
            "Tensorflow version: 2.9.2\n",
            "Keras version: 2.9.0\n"
          ]
        }
      ],
      "source": [
        "from matplotlib import pyplot as plt\n",
        "import numpy as np\n",
        "import os\n",
        "import cv2 \n",
        "import csv\n",
        "import tensorflow as tf\n",
        "from tensorflow import keras\n",
        "from keras.preprocessing import image\n",
        "from keras.models import Model, load_model\n",
        "from keras.applications.vgg16 import VGG16, preprocess_input #224*224\n",
        "from keras.applications.vgg19 import VGG19, preprocess_input #224*224\n",
        "from keras.applications.xception import Xception\n",
        "from keras.applications.mobilenet import MobileNet\n",
        "from keras.preprocessing.image import ImageDataGenerator\n",
        "from keras.layers import Dense, GlobalAveragePooling2D, Dropout\n",
        "import math\n",
        "from keras.callbacks import ModelCheckpoint, EarlyStopping\n",
        "from PIL import Image\n",
        "from google.colab import files\n",
        "print(\"Tensorflow version: \"+tf.__version__)\n",
        "print(\"Keras version: \" + tf.keras.__version__)"
      ]
    },
    {
      "cell_type": "markdown",
      "metadata": {
        "id": "f6HqNeyYKraU"
      },
      "source": [
        "#**3. Téléchargement des données d'entrainement \"Small Dataset\"**"
      ]
    },
    {
      "cell_type": "code",
      "execution_count": 3,
      "metadata": {
        "id": "ByLVy9uCV3PX"
      },
      "outputs": [],
      "source": [
        "def seed_everything(seed=0):\n",
        "    tf.random.set_seed(seed)\n",
        "    os.environ[\"PYTHONHASHSEED\"]=str(seed)\n",
        "    np.random.seed(seed)\n",
        "    \n",
        "# seeding the enviorment to have reproducable results.\n",
        "\n",
        "seed_everything()\n",
        "#tf.config.experimental.enable_op_determinism()\n"
      ]
    },
    {
      "cell_type": "code",
      "execution_count": 4,
      "metadata": {
        "id": "1CwAmMbqmGhW"
      },
      "outputs": [],
      "source": [
        "bases_path_after=\"bases\"\n",
        "if os.path.exists(bases_path_after) == False:\n",
        "    os.makedirs(bases_path_after)"
      ]
    },
    {
      "cell_type": "code",
      "execution_count": 5,
      "metadata": {
        "colab": {
          "base_uri": "https://localhost:8080/"
        },
        "id": "9zdwkyRtmnN-",
        "outputId": "6dedf10b-c76f-46c0-81e1-96e3a6bf9fa9"
      },
      "outputs": [
        {
          "output_type": "stream",
          "name": "stdout",
          "text": [
            "--2022-11-17 15:54:24--  https://download.smartappli.eu/big.tar\n",
            "Resolving download.smartappli.eu (download.smartappli.eu)... 46.105.57.169, 2001:41d0:301::20\n",
            "Connecting to download.smartappli.eu (download.smartappli.eu)|46.105.57.169|:443... connected.\n",
            "HTTP request sent, awaiting response... 200 OK\n",
            "Length: 4149324288 (3.9G) [application/x-tar]\n",
            "Saving to: ‘big.tar’\n",
            "\n",
            "big.tar             100%[===================>]   3.86G  11.3MB/s    in 6m 7s   \n",
            "\n",
            "2022-11-17 16:00:33 (10.8 MB/s) - ‘big.tar’ saved [4149324288/4149324288]\n",
            "\n"
          ]
        }
      ],
      "source": [
        "!rm -rf sample_data\n",
        "! wget --no-check-certificate https://download.smartappli.eu/big.tar\n",
        "! tar xf big.tar -C 'bases' --one-top-level\n",
        "! rm big.tar"
      ]
    },
    {
      "cell_type": "markdown",
      "metadata": {
        "id": "pzFIppNCAjuX"
      },
      "source": [
        "#**4. Téléchargement des données de test \"Test Dataset\"**"
      ]
    },
    {
      "cell_type": "code",
      "execution_count": 6,
      "metadata": {
        "colab": {
          "base_uri": "https://localhost:8080/"
        },
        "id": "BTCYigUN9Tsx",
        "outputId": "bbfa67e2-856c-49a7-c6ee-0177bff1d784"
      },
      "outputs": [
        {
          "output_type": "stream",
          "name": "stdout",
          "text": [
            "--2022-11-17 16:01:26--  http://195.154.53.219/downloads/test.tar\n",
            "Connecting to 195.154.53.219:80... connected.\n",
            "HTTP request sent, awaiting response... 200 OK\n",
            "Length: 58196480 (56M) [application/octet-stream]\n",
            "Saving to: ‘test.tar’\n",
            "\n",
            "test.tar            100%[===================>]  55.50M  14.0MB/s    in 4.9s    \n",
            "\n",
            "2022-11-17 16:01:32 (11.3 MB/s) - ‘test.tar’ saved [58196480/58196480]\n",
            "\n"
          ]
        }
      ],
      "source": [
        "!rm -rf sample_data\n",
        "!wget --no-check-certificate http://195.154.53.219/downloads/test.tar\n",
        "!tar xf test.tar -C 'bases' --one-top-level\n",
        "!rm test.tar"
      ]
    },
    {
      "cell_type": "markdown",
      "metadata": {
        "id": "P_-BpaZnLDmn"
      },
      "source": [
        "#**5. Création du fichier de labels \"classes.txt\"**"
      ]
    },
    {
      "cell_type": "code",
      "execution_count": 7,
      "metadata": {
        "id": "70eR5xy2nNZP"
      },
      "outputs": [],
      "source": [
        "!echo '%s\\n' 'fire' 'no_fire' 'start_fire'> classes.txt"
      ]
    },
    {
      "cell_type": "code",
      "execution_count": 8,
      "metadata": {
        "colab": {
          "base_uri": "https://localhost:8080/"
        },
        "id": "xOpZcxvdptF3",
        "outputId": "d441380c-3492-4de5-cb27-9d143c68b874"
      },
      "outputs": [
        {
          "output_type": "stream",
          "name": "stdout",
          "text": [
            "Mounted at /content/drive\n"
          ]
        }
      ],
      "source": [
        "from google.colab import drive\n",
        "drive.mount('/content/drive')"
      ]
    },
    {
      "cell_type": "markdown",
      "metadata": {
        "id": "YyXXoZphLN1-"
      },
      "source": [
        "#**6. Paramètres d'entrainement et sélection du modèle pré-entrainé**"
      ]
    },
    {
      "cell_type": "code",
      "execution_count": null,
      "metadata": {
        "colab": {
          "base_uri": "https://localhost:8080/"
        },
        "id": "hANxz2kKsMq4",
        "outputId": "6c646109-f74c-43d9-9e13-80a972fceff1"
      },
      "outputs": [
        {
          "output_type": "stream",
          "name": "stdout",
          "text": [
            "big  test\n"
          ]
        }
      ],
      "source": [
        "!ls bases/"
      ]
    },
    {
      "cell_type": "code",
      "execution_count": 9,
      "metadata": {
        "id": "HwKf5hQLnUPi"
      },
      "outputs": [],
      "source": [
        "nb_classes = 3\n",
        "batch_size=8 #@param [1,2,4,8,16,32,64,128] {type:\"raw\"}\n",
        "epochs=20 #@param [5, 10,20,50,100,200] {type:\"raw\"}\n",
        "#dataset_path = \"bases/\"\n",
        "dataset_path= \"bases\"\n",
        "input_dim=224 #@param [224,299] {type:\"raw\"}  \n",
        "dataset_name = \"big\" #@param [\"small\", \"big\", \"DB2\", \"DB3\"]\n",
        "train_dataset = os.path.join(dataset_path, dataset_name)\n",
        "test_name='test' #@param [\"test\",\"test1\",\"test2\",\"test3\"]\n",
        "test_dataset = os.path.join(dataset_path, test_name)\n",
        "classes_path = \"classes.txt\"\n",
        "classifier = \"DenseNet201\" #@param [\"Xception\",\"VGG16\",\"VGG19\",\"ResNet50\",\"ResNet121\",\"ResNet152\",\"ResNet50V2\",\"ResNet121V2\",\"ResNet152V2\",\"InceptionV3\",\"InceptionResNetV2\",\"MobileNet\",\"MobileNetV2\",\"DenseNet121\",\"DenseNet169\",\"DenseNet201\",\"NASNetLarge\",\"NASNetMobile\"] {type:\"string\"}\n"
      ]
    },
    {
      "cell_type": "markdown",
      "metadata": {
        "id": "7SBzh646b5yz"
      },
      "source": [
        "# **7. Compter le nombre de classes**"
      ]
    },
    {
      "cell_type": "code",
      "execution_count": 10,
      "metadata": {
        "id": "NZ55HVhkb5y3"
      },
      "outputs": [],
      "source": [
        "# Récupérer les noms des classes\n",
        "with open(classes_path, 'r') as f:\n",
        "    classes = f.readlines()\n",
        "    classes = list(map(lambda x: x.strip(), classes))\n",
        "num_classes = len(classes)"
      ]
    },
    {
      "cell_type": "markdown",
      "metadata": {
        "id": "NTyWV0pQb5zD"
      },
      "source": [
        "# **8. Création du jeu de données d'entraînement  (A COMPLETER)**"
      ]
    },
    {
      "cell_type": "code",
      "execution_count": 11,
      "metadata": {
        "colab": {
          "base_uri": "https://localhost:8080/"
        },
        "id": "RQs_BE0h_lQv",
        "outputId": "4686de02-356b-4e20-bc3a-317c86b0e236"
      },
      "outputs": [
        {
          "output_type": "stream",
          "name": "stdout",
          "text": [
            "Found 4803 images belonging to 3 classes.\n",
            "Found 1200 images belonging to 3 classes.\n"
          ]
        }
      ],
      "source": [
        "from keras.preprocessing.image import ImageDataGenerator\n",
        "\n",
        "train_datagen = ImageDataGenerator(\n",
        "        rotation_range=30,\n",
        "        width_shift_range=0.2,\n",
        "        height_shift_range=0.2,\n",
        "    #    rescale=1./255,\n",
        "    #    zca_whitening=True,\n",
        "    #    zca_epsilon=1e-06,\n",
        "        brightness_range=[0.2,1],\n",
        "        fill_mode='nearest',\n",
        "        vertical_flip=False,\n",
        "        shear_range=0.2,\n",
        "        zoom_range=0.2,\n",
        "        horizontal_flip=True,\n",
        "        validation_split=0.2)\n",
        "\n",
        "\n",
        "# this is the augmentation configuration we will use for testing:\n",
        "# only rescaling\n",
        "test_datagen = ImageDataGenerator(rescale=1./255)\n",
        "\n",
        "# this is a generator that will read pictures found in\n",
        "# subfolers of 'data/train', and indefinitely generate\n",
        "# batches of augmented image data\n",
        "train_generator = train_datagen.flow_from_directory(\n",
        "        train_dataset,  # this is the target directory\n",
        "        target_size=(input_dim,input_dim),  # all images will be resized to 150x150\n",
        "        batch_size=batch_size,\n",
        "        seed=42,\n",
        "        subset=\"training\",\n",
        "        class_mode='categorical')  # since we use binary_crossentropy loss, we need binary labels\n",
        "\n",
        "# this is a similar generator, for validation data\n",
        "validation_generator = train_datagen.flow_from_directory(\n",
        "        train_dataset,\n",
        "        target_size=(input_dim,input_dim),\n",
        "        seed=42,\n",
        "        subset=\"validation\",           # Sélection du jeu de données d'entraînement\n",
        "        batch_size=batch_size,\n",
        "        class_mode='categorical')"
      ]
    },
    {
      "cell_type": "markdown",
      "metadata": {
        "id": "ji2AfPd88PC-"
      },
      "source": [
        "#**9. Créer le jeu de validation (A COMPLETER : même générateur, One-Hot, jeu \"validation\")**"
      ]
    },
    {
      "cell_type": "markdown",
      "metadata": {
        "id": "Wi8oBrIJWa5s"
      },
      "source": [
        "# **10. Télécharger un modèle préentraîné et appliquer le Transfer Learning**\n",
        "\n"
      ]
    },
    {
      "cell_type": "code",
      "execution_count": 17,
      "metadata": {
        "id": "_WCBo9Oyb5zc"
      },
      "outputs": [],
      "source": [
        "from keras.applications.inception_v3 import InceptionV3\n",
        "from keras.applications.resnet import ResNet50\n",
        "from keras.applications.resnet_v2 import  ResNet152V2, ResNet50V2\n",
        "from keras.applications.inception_resnet_v2 import InceptionResNetV2\n",
        "from keras.applications import MobileNetV2\n",
        "from keras.applications.densenet import DenseNet201\n",
        "from keras import activations\n",
        "\n",
        "#base_model = MobileNet(include_top=False,weights=\"imagenet\",input_shape=(input_dim,input_dim,3))\n",
        "#base_model = InceptionV3(include_top=False,weights=\"imagenet\",input_shape=(input_dim,input_dim,3))\n",
        "#base_model = MobileNetV2(include_top=False,weights=\"imagenet\",input_shape=(input_dim,input_dim,3))\n",
        "base_model = DenseNet201(include_top=False,weights=\"imagenet\",input_shape=(input_dim,input_dim,3))\n",
        "\n",
        "for layer in base_model.layers:\n",
        "  layer.freeze=False\n",
        "\n",
        "x=base_model.output\n",
        "x=GlobalAveragePooling2D()(x)\n",
        "\n",
        "x= Dense(512,activation=\"relu\")(x)\n",
        "# x= Dense(256,activation=\"relu\")(x)\n",
        "# x= Dense(128,activation=\"relu\")(x)\n",
        "# x= Dense(64,activation=\"relu\")(x)\n",
        "\n",
        "\n",
        "# x = Dropout(0.425)(x)\n",
        "y = Dense(nb_classes,activation=\"softmax\")(x)\n",
        "\n",
        "model = Model(inputs=base_model.input,outputs=y)"
      ]
    },
    {
      "cell_type": "markdown",
      "metadata": {
        "id": "YRkLslfSCr_P"
      },
      "source": [
        "# **11. Geler puis dégeler les poids des premières couches**"
      ]
    },
    {
      "cell_type": "code",
      "execution_count": null,
      "metadata": {
        "id": "oa1ExIkcDAno"
      },
      "outputs": [],
      "source": [
        "model.summary()"
      ]
    },
    {
      "cell_type": "markdown",
      "metadata": {
        "id": "ItQJ7cVfCAXI"
      },
      "source": [
        "# **11. Compiler le modèle avec la descente de gradient stochastique DSG**\n"
      ]
    },
    {
      "cell_type": "code",
      "execution_count": 18,
      "metadata": {
        "id": "4wUoldu92n-b"
      },
      "outputs": [],
      "source": [
        "# recompiler le modèle\n",
        "#model.compile(loss=\"CategoricalCrossentropy\",optimizer=\"sgd\",metrics=[\"accuracy\"])\n",
        "model.compile(loss=\"CategoricalCrossentropy\",optimizer=\"adam\",metrics=[\"accuracy\"])"
      ]
    },
    {
      "cell_type": "markdown",
      "metadata": {
        "id": "q6CWnXEPb5zX"
      },
      "source": [
        "# **12. Entraîner le modèle**"
      ]
    },
    {
      "cell_type": "code",
      "execution_count": 19,
      "metadata": {
        "colab": {
          "base_uri": "https://localhost:8080/"
        },
        "id": "GPGAZ2Vab5zo",
        "outputId": "556d1bf4-a3e1-4b2e-c137-8aece838377f"
      },
      "outputs": [
        {
          "output_type": "stream",
          "name": "stdout",
          "text": [
            "Epoch 1/25\n",
            "601/601 [==============================] - ETA: 0s - loss: 0.6646 - accuracy: 0.7595"
          ]
        },
        {
          "output_type": "stream",
          "name": "stderr",
          "text": [
            "/usr/local/lib/python3.7/dist-packages/PIL/TiffImagePlugin.py:770: UserWarning: Possibly corrupt EXIF data.  Expecting to read 20 bytes but only got 19. Skipping tag 36867\n",
            "  \" Skipping tag %s\" % (size, len(data), tag)\n",
            "/usr/local/lib/python3.7/dist-packages/PIL/Image.py:960: UserWarning: Palette images with Transparency expressed in bytes should be converted to RGBA images\n",
            "  \"Palette images with Transparency expressed in bytes should be \"\n"
          ]
        },
        {
          "output_type": "stream",
          "name": "stdout",
          "text": [
            "\n",
            "Epoch 1: val_accuracy improved from -inf to 0.84583, saving model to /content/drive/MyDrive/MyModels/groupe_15_model_DenseNet201.h5\n",
            "601/601 [==============================] - 263s 384ms/step - loss: 0.6646 - accuracy: 0.7595 - val_loss: 0.5213 - val_accuracy: 0.8458\n",
            "Epoch 2/25\n",
            "601/601 [==============================] - ETA: 0s - loss: 0.4642 - accuracy: 0.8220\n",
            "Epoch 2: val_accuracy did not improve from 0.84583\n",
            "601/601 [==============================] - 216s 359ms/step - loss: 0.4642 - accuracy: 0.8220 - val_loss: 0.5448 - val_accuracy: 0.8125\n",
            "Epoch 3/25\n",
            "601/601 [==============================] - ETA: 0s - loss: 0.4085 - accuracy: 0.8530\n",
            "Epoch 3: val_accuracy did not improve from 0.84583\n",
            "601/601 [==============================] - 209s 348ms/step - loss: 0.4085 - accuracy: 0.8530 - val_loss: 0.7043 - val_accuracy: 0.7842\n",
            "Epoch 4/25\n",
            "601/601 [==============================] - ETA: 0s - loss: 0.3588 - accuracy: 0.8715\n",
            "Epoch 4: val_accuracy did not improve from 0.84583\n",
            "601/601 [==============================] - 208s 346ms/step - loss: 0.3588 - accuracy: 0.8715 - val_loss: 0.5269 - val_accuracy: 0.8258\n",
            "Epoch 5/25\n",
            "601/601 [==============================] - ETA: 0s - loss: 0.3250 - accuracy: 0.8851\n",
            "Epoch 5: val_accuracy did not improve from 0.84583\n",
            "601/601 [==============================] - 208s 346ms/step - loss: 0.3250 - accuracy: 0.8851 - val_loss: 0.5047 - val_accuracy: 0.8092\n",
            "Epoch 6/25\n",
            "601/601 [==============================] - ETA: 0s - loss: 0.3155 - accuracy: 0.8807\n",
            "Epoch 6: val_accuracy did not improve from 0.84583\n",
            "601/601 [==============================] - 207s 344ms/step - loss: 0.3155 - accuracy: 0.8807 - val_loss: 0.5362 - val_accuracy: 0.8042\n",
            "Epoch 7/25\n",
            "601/601 [==============================] - ETA: 0s - loss: 0.3001 - accuracy: 0.8882\n",
            "Epoch 7: val_accuracy did not improve from 0.84583\n",
            "601/601 [==============================] - 208s 345ms/step - loss: 0.3001 - accuracy: 0.8882 - val_loss: 1.1815 - val_accuracy: 0.6008\n",
            "Epoch 8/25\n",
            "601/601 [==============================] - ETA: 0s - loss: 0.2820 - accuracy: 0.8976\n",
            "Epoch 8: val_accuracy did not improve from 0.84583\n",
            "601/601 [==============================] - 206s 342ms/step - loss: 0.2820 - accuracy: 0.8976 - val_loss: 0.7520 - val_accuracy: 0.7908\n"
          ]
        }
      ],
      "source": [
        "\n",
        "seed_everything()\n",
        "# tf.config.experimental.enable_op_determinism()\n",
        "\n",
        "model_cp = ModelCheckpoint(\"/content/drive/MyDrive/MyModels/groupe_15_model_DenseNet201.h5\",monitor=\"val_accuracy\",save_best_only=True,verbose=1)\n",
        "\n",
        "early_stopping = EarlyStopping(monitor=\"val_accuracy\",patience=7)\n",
        "\n",
        "history=model.fit(train_generator,validation_data=validation_generator,epochs=25,callbacks=[model_cp,early_stopping],shuffle=False)\n"
      ]
    },
    {
      "cell_type": "markdown",
      "metadata": {
        "id": "xVOg-VgI9YMB"
      },
      "source": [
        "#**13. Sauvegarder le modèle final (A COMPLETER)**\n"
      ]
    },
    {
      "cell_type": "code",
      "execution_count": 20,
      "metadata": {
        "id": "BbAlAYpm9fg5"
      },
      "outputs": [],
      "source": [
        "model.save(\"final_model.h5\")"
      ]
    },
    {
      "cell_type": "markdown",
      "metadata": {
        "id": "bnaeA1bv2pc1"
      },
      "source": []
    },
    {
      "cell_type": "code",
      "execution_count": 21,
      "metadata": {
        "colab": {
          "base_uri": "https://localhost:8080/",
          "height": 295
        },
        "id": "QtIwdjee_KLk",
        "outputId": "976bf659-b9d0-4585-f9d9-47e25c8cd45d"
      },
      "outputs": [
        {
          "output_type": "display_data",
          "data": {
            "text/plain": [
              "<Figure size 432x288 with 1 Axes>"
            ],
            "image/png": "[encoded data removed]"
          },
          "metadata": {
            "needs_background": "light"
          }
        }
      ],
      "source": [
        "plt.plot(history.history['accuracy'])\n",
        "plt.plot(history.history['val_accuracy'])\n",
        "plt.title('model accuracy')\n",
        "plt.ylabel('accuracy')\n",
        "plt.xlabel('epoch')\n",
        "plt.legend(['train', 'val'], loc='upper left')\n",
        "plt.show()"
      ]
    },
    {
      "cell_type": "markdown",
      "metadata": {
        "id": "ZgVB5J2yDOul"
      },
      "source": [
        "# **15. Créer le jeu de données de test**"
      ]
    },
    {
      "cell_type": "code",
      "execution_count": 22,
      "metadata": {
        "colab": {
          "base_uri": "https://localhost:8080/"
        },
        "id": "c0srm2t6-TMK",
        "outputId": "a46df42d-d90d-4a4f-8b73-a8e4c3321be4"
      },
      "outputs": [
        {
          "output_type": "stream",
          "name": "stdout",
          "text": [
            "Found 210 images belonging to 3 classes.\n"
          ]
        }
      ],
      "source": [
        "# test_ds = tf.keras.preprocessing.image_dataset_from_directory(\n",
        "# \ttest_dataset,               # chemin vers le jeu de données\n",
        "# \tseed=42,                     # Initialisation du générateur aléatoire (permutations)\n",
        "# \timage_size=(input_dim,input_dim),   # Taille des images d'entrée\n",
        "# \tbatch_size=32,\n",
        "#   shuffle=False,   # Taille du mini-batch\n",
        "#   label_mode=\"categorical\"    # Conversion au format One-Hot\n",
        "# )\n",
        "\n",
        "test_datagen = ImageDataGenerator()\n",
        "\n",
        "test_generator = test_datagen.flow_from_directory(\n",
        "        test_dataset,  # this is the target directory\n",
        "        target_size=(input_dim,input_dim),  # all images will be resized to 150x150\n",
        "        batch_size=batch_size,\n",
        "        seed=42,\n",
        "        class_mode='categorical')  # since we use binary_crossentropy loss, we need binary labels\n",
        "\n"
      ]
    },
    {
      "cell_type": "markdown",
      "metadata": {
        "id": "sA3Dc4ONDdS_"
      },
      "source": [
        "# **16. Evaluer le modèle avec ce jeu de données de test**"
      ]
    },
    {
      "cell_type": "code",
      "execution_count": 24,
      "metadata": {
        "id": "7sghKVcmqEbH"
      },
      "outputs": [],
      "source": [
        "model.load_weights(\"/content/drive/MyDrive/MyModels/groupe_15_model_DenseNet201.h5\")"
      ]
    },
    {
      "cell_type": "code",
      "execution_count": null,
      "metadata": {
        "id": "UKxWc8Mgt9c9"
      },
      "outputs": [],
      "source": [
        "model.load_weights(\"/content/drive/MyDrive/MyModels/resnet50_f_checkpoint.h5\")"
      ]
    },
    {
      "cell_type": "code",
      "execution_count": 25,
      "metadata": {
        "id": "mcxTkzmzrnOM",
        "colab": {
          "base_uri": "https://localhost:8080/"
        },
        "outputId": "f0065aaf-fa60-4424-acff-91db2416b380"
      },
      "outputs": [
        {
          "output_type": "stream",
          "name": "stdout",
          "text": [
            "27/27 [==============================] - 6s 227ms/step - loss: 0.6479 - accuracy: 0.7381\n"
          ]
        },
        {
          "output_type": "execute_result",
          "data": {
            "text/plain": [
              "[0.6479491591453552, 0.738095223903656]"
            ]
          },
          "metadata": {},
          "execution_count": 25
        }
      ],
      "source": [
        "model.evaluate(test_generator)"
      ]
    },
    {
      "cell_type": "markdown",
      "metadata": {
        "id": "qvQJfqsfb_9V"
      },
      "source": [
        "with last checkpoint"
      ]
    },
    {
      "cell_type": "code",
      "execution_count": null,
      "metadata": {
        "id": "cqDwUpZg-kXC"
      },
      "outputs": [],
      "source": [
        "model.evaluate(test_generator)"
      ]
    },
    {
      "cell_type": "markdown",
      "metadata": {
        "id": "NhupWlNPcEGc"
      },
      "source": [
        "with best checkpoint"
      ]
    },
    {
      "cell_type": "code",
      "execution_count": null,
      "metadata": {
        "id": "EtWlR6eJk3Rp"
      },
      "outputs": [],
      "source": [
        "!unzip  \"/content/drive/MyDrive/dataset_fire/archive (1).zip\" -d /content/drive/MyDrive/dataset_fire/dataset_aux"
      ]
    },
    {
      "cell_type": "code",
      "execution_count": null,
      "metadata": {
        "id": "yREPBL9ZmaU_"
      },
      "outputs": [],
      "source": [
        "!cp /content/drive/MyDrive/dataset_fire/dataset_aux/ForestFireDataset/Training/fire/* /content/drive/MyDrive/dataset_fire/small/fire/ "
      ]
    },
    {
      "cell_type": "code",
      "execution_count": null,
      "metadata": {
        "id": "wIVGnlpLnG84"
      },
      "outputs": [],
      "source": [
        "!cp /content/drive/MyDrive/dataset_fire/dataset_aux/ForestFireDataset/Training/nofire/* /content/drive/MyDrive/dataset_fire/small/no_fire/ "
      ]
    },
    {
      "cell_type": "code",
      "execution_count": null,
      "metadata": {
        "id": "2-jx0jUNnbn8"
      },
      "outputs": [],
      "source": []
    },
    {
      "cell_type": "code",
      "execution_count": null,
      "metadata": {
        "id": "juzJpDXbc9zV"
      },
      "outputs": [],
      "source": [
        "!cp -r bases/ drive/MyDrive/dataset_fire"
      ]
    },
    {
      "cell_type": "code",
      "execution_count": null,
      "metadata": {
        "id": "PdVhbnmEc3Xx"
      },
      "outputs": [],
      "source": [
        "!cp best_checkpoint.h5 drive/MyDrive/InceptionV3_checkpoint.h5"
      ]
    },
    {
      "cell_type": "code",
      "execution_count": null,
      "metadata": {
        "id": "u_i-BbtZLKbl"
      },
      "outputs": [],
      "source": [
        "!cp final_model.h5 drive/MyDrive/Xception_checkpoint__.h5"
      ]
    },
    {
      "cell_type": "code",
      "execution_count": null,
      "metadata": {
        "id": "R21jF4a9r6hQ"
      },
      "outputs": [],
      "source": [
        "model.evaluate(test_generator)"
      ]
    },
    {
      "cell_type": "markdown",
      "metadata": {
        "id": "oECfYKSp_MaQ"
      },
      "source": [
        "#**16. Tester le modèle avec une image de test: \"fire.jpg\" et \"no_fire.jpg (A COMPLETER)\"**"
      ]
    },
    {
      "cell_type": "code",
      "execution_count": null,
      "metadata": {
        "id": "NwCnXVtKESUf"
      },
      "outputs": [],
      "source": [
        "files.upload()"
      ]
    },
    {
      "cell_type": "code",
      "execution_count": null,
      "metadata": {
        "id": "4tUcESh_sFxg"
      },
      "outputs": [],
      "source": [
        "train_ds.class_names"
      ]
    },
    {
      "cell_type": "code",
      "execution_count": null,
      "metadata": {
        "id": "N_JRsQoh_chG"
      },
      "outputs": [],
      "source": [
        "%matplotlib inline\n",
        "\n",
        "classes = train_ds.class_names\n",
        "image_path =  \"/content/bases/test/start_fire/test104.jpg\"\n",
        "\n",
        "img = Image.open(image_path).convert('RGB')\n",
        "x = tf.keras.utils.img_to_array(img,data_format='channels_last')\n",
        "x = tf.keras.preprocessing.image.smart_resize(x, size=(224,224))\n",
        "x = np.expand_dims(x, axis=0)\n",
        "\n",
        "# predict\n",
        "pred = model.predict(x,batch_size=1)[0]\n",
        "\n",
        "for (pos,prob) in enumerate(pred):\n",
        "    class_name = classes[pos]\n",
        "    if (pos == np.argmax(pred)) :\n",
        "        img = cv2.imread(image_path)\n",
        "        img = cv2.cvtColor(img, cv2.COLOR_BGR2RGB)\n",
        "        font = cv2.FONT_HERSHEY_COMPLEX \n",
        "        textsize = cv2.getTextSize(class_name, font, 1, 2)[0]\n",
        "        textX = (img.shape[1] - textsize[0]) / 2\n",
        "        textY = (img.shape[0] + textsize[1]) / 2\n",
        "        cv2.putText(img, class_name, (int(textX)-10, int(textY)), font, 2, (255,0,0), 6, cv2.LINE_AA)\n",
        "        plt.imshow(img)\n",
        "    #print(\"Top %d ====================\" % (i + 1))\n",
        "    print(\"Class Name : %s\" % (class_name), \"---\", \"Class Probability: %.2f%%\" % (prob*100))\n",
        "plt.show()"
      ]
    },
    {
      "cell_type": "code",
      "execution_count": null,
      "metadata": {
        "id": "iE-WrC38tMiB"
      },
      "outputs": [],
      "source": []
    }
  ],
  "metadata": {
    "accelerator": "GPU",
    "colab": {
      "provenance": [],
      "include_colab_link": true
    },
    "kernelspec": {
      "display_name": "Python 3",
      "name": "python3"
    }
  },
  "nbformat": 4,
  "nbformat_minor": 0
}