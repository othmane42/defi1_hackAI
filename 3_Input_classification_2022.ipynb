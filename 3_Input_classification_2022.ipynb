{
  "cells": [
    {
      "cell_type": "markdown",
      "metadata": {
        "colab_type": "text",
        "id": "view-in-github"
      },
      "source": [
        "<a href=\"https://colab.research.google.com/github/othmane42/defi1_hackAI/blob/main/3_Input_classification_2022.ipynb\" target=\"_parent\"><img src=\"https://colab.research.google.com/assets/colab-badge.svg\" alt=\"Open In Colab\"/></a>"
      ]
    },
    {
      "cell_type": "markdown",
      "metadata": {
        "id": "iK6fZUXolwPs"
      },
      "source": [
        "# **1. Matériel : vérifier que le GPU est bien sélectionné (A COMPLETER)**"
      ]
    },
    {
      "cell_type": "code",
      "execution_count": null,
      "metadata": {
        "id": "_UEjh8Rulquq"
      },
      "outputs": [],
      "source": [
        "# ?????????????????????????????????????\n",
        "# ?????????????????????????????????????"
      ]
    },
    {
      "cell_type": "markdown",
      "metadata": {
        "id": "QrtS3fRhb5x6"
      },
      "source": [
        "# **2. Importation des librairies**"
      ]
    },
    {
      "cell_type": "code",
      "execution_count": 1,
      "metadata": {
        "colab": {
          "base_uri": "https://localhost:8080/"
        },
        "id": "MS3XuLGyb5x_",
        "outputId": "0ae62650-f28d-479c-ef0d-2c2d22c75012"
      },
      "outputs": [
        {
          "ename": "ModuleNotFoundError",
          "evalue": "No module named 'google.colab'",
          "output_type": "error",
          "traceback": [
            "\u001b[0;31m---------------------------------------------------------------------------\u001b[0m",
            "\u001b[0;31mModuleNotFoundError\u001b[0m                       Traceback (most recent call last)",
            "\u001b[0;32m/tmp/ipykernel_9857/2834227503.py\u001b[0m in \u001b[0;36m<module>\u001b[0;34m\u001b[0m\n\u001b[1;32m     17\u001b[0m \u001b[0;32mfrom\u001b[0m \u001b[0mkeras\u001b[0m\u001b[0;34m.\u001b[0m\u001b[0mcallbacks\u001b[0m \u001b[0;32mimport\u001b[0m \u001b[0mModelCheckpoint\u001b[0m\u001b[0;34m,\u001b[0m \u001b[0mEarlyStopping\u001b[0m\u001b[0;34m\u001b[0m\u001b[0;34m\u001b[0m\u001b[0m\n\u001b[1;32m     18\u001b[0m \u001b[0;32mfrom\u001b[0m \u001b[0mPIL\u001b[0m \u001b[0;32mimport\u001b[0m \u001b[0mImage\u001b[0m\u001b[0;34m\u001b[0m\u001b[0;34m\u001b[0m\u001b[0m\n\u001b[0;32m---> 19\u001b[0;31m \u001b[0;32mfrom\u001b[0m \u001b[0mgoogle\u001b[0m\u001b[0;34m.\u001b[0m\u001b[0mcolab\u001b[0m \u001b[0;32mimport\u001b[0m \u001b[0mfiles\u001b[0m\u001b[0;34m\u001b[0m\u001b[0;34m\u001b[0m\u001b[0m\n\u001b[0m\u001b[1;32m     20\u001b[0m \u001b[0mprint\u001b[0m\u001b[0;34m(\u001b[0m\u001b[0;34m\"Tensorflow version: \"\u001b[0m\u001b[0;34m+\u001b[0m\u001b[0mtf\u001b[0m\u001b[0;34m.\u001b[0m\u001b[0m__version__\u001b[0m\u001b[0;34m)\u001b[0m\u001b[0;34m\u001b[0m\u001b[0;34m\u001b[0m\u001b[0m\n\u001b[1;32m     21\u001b[0m \u001b[0mprint\u001b[0m\u001b[0;34m(\u001b[0m\u001b[0;34m\"Keras version: \"\u001b[0m \u001b[0;34m+\u001b[0m \u001b[0mtf\u001b[0m\u001b[0;34m.\u001b[0m\u001b[0mkeras\u001b[0m\u001b[0;34m.\u001b[0m\u001b[0m__version__\u001b[0m\u001b[0;34m)\u001b[0m\u001b[0;34m\u001b[0m\u001b[0;34m\u001b[0m\u001b[0m\n",
            "\u001b[0;31mModuleNotFoundError\u001b[0m: No module named 'google.colab'"
          ]
        }
      ],
      "source": [
        "from matplotlib import pyplot as plt\n",
        "import numpy as np\n",
        "import os\n",
        "import cv2 \n",
        "import csv\n",
        "import tensorflow as tf\n",
        "from tensorflow import keras\n",
        "from keras.preprocessing import image\n",
        "from keras.models import Model, load_model\n",
        "from keras.applications.vgg16 import VGG16, preprocess_input #224*224\n",
        "from keras.applications.vgg19 import VGG19, preprocess_input #224*224\n",
        "from keras.applications.xception import Xception\n",
        "from keras.applications.mobilenet import MobileNet\n",
        "from keras.preprocessing.image import ImageDataGenerator\n",
        "from keras.layers import Dense, GlobalAveragePooling2D, Dropout\n",
        "import math\n",
        "from keras.callbacks import ModelCheckpoint, EarlyStopping\n",
        "from PIL import Image\n",
        "from google.colab import files\n",
        "print(\"Tensorflow version: \"+tf.__version__)\n",
        "print(\"Keras version: \" + tf.keras.__version__)"
      ]
    },
    {
      "cell_type": "markdown",
      "metadata": {
        "id": "f6HqNeyYKraU"
      },
      "source": [
        "#**3. Téléchargement des données d'entrainement \"Small Dataset\"**"
      ]
    },
    {
      "cell_type": "code",
      "execution_count": 77,
      "metadata": {
        "id": "ByLVy9uCV3PX"
      },
      "outputs": [],
      "source": [
        "def seed_everything(seed=0):\n",
        "    tf.random.set_seed(seed)\n",
        "    os.environ[\"PYTHONHASHSEED\"]=str(seed)\n",
        "    np.random.seed(seed)\n",
        "    \n",
        "# seeding the enviorment to have reproducable results.\n",
        "\n",
        "seed_everything()\n",
        "#tf.config.experimental.enable_op_determinism()\n"
      ]
    },
    {
      "cell_type": "code",
      "execution_count": 4,
      "metadata": {
        "id": "1CwAmMbqmGhW"
      },
      "outputs": [],
      "source": [
        "bases_path_after=\"bases1\"\n",
        "if os.path.exists(bases_path_after) == False:\n",
        "    os.makedirs(bases_path_after)"
      ]
    },
    {
      "cell_type": "code",
      "execution_count": 5,
      "metadata": {
        "colab": {
          "base_uri": "https://localhost:8080/"
        },
        "id": "9zdwkyRtmnN-",
        "outputId": "6dedf10b-c76f-46c0-81e1-96e3a6bf9fa9"
      },
      "outputs": [
        {
          "name": "stdout",
          "output_type": "stream",
          "text": [
            "--2022-11-25 11:48:40--  https://cluster.ig.umons.ac.be/HackIA21/databases/FIRE_DATABASE_1.tar\n",
            "Resolving cluster.ig.umons.ac.be (cluster.ig.umons.ac.be)... 193.190.209.220\n",
            "Connecting to cluster.ig.umons.ac.be (cluster.ig.umons.ac.be)|193.190.209.220|:443... connected.\n",
            "HTTP request sent, awaiting response... 200 OK\n",
            "Length: 466772992 (445M) [application/octet-stream]\n",
            "Saving to: ‘FIRE_DATABASE_1.tar’\n",
            "\n",
            "FIRE_DATABASE_1.tar 100%[===================>] 445.15M  6.73MB/s    in 65s     \n",
            "\n",
            "2022-11-25 11:49:45 (6.85 MB/s) - ‘FIRE_DATABASE_1.tar’ saved [466772992/466772992]\n",
            "\n"
          ]
        }
      ],
      "source": [
        "!wget --no-check-certificate https://cluster.ig.umons.ac.be/HackIA21/databases/FIRE_DATABASE_1.tar\n",
        "!tar xf FIRE_DATABASE_1.tar  -C 'bases1' --one-top-level\n"
      ]
    },
    {
      "cell_type": "markdown",
      "metadata": {
        "id": "pzFIppNCAjuX"
      },
      "source": [
        "#**4. Téléchargement des données de test \"Test Dataset\"**"
      ]
    },
    {
      "cell_type": "code",
      "execution_count": 61,
      "metadata": {
        "colab": {
          "base_uri": "https://localhost:8080/"
        },
        "id": "BTCYigUN9Tsx",
        "outputId": "bbfa67e2-856c-49a7-c6ee-0177bff1d784"
      },
      "outputs": [
        {
          "name": "stdout",
          "output_type": "stream",
          "text": [
            "--2022-11-17 20:12:39--  http://195.154.53.219/downloads/db3.tar\n",
            "Connecting to 195.154.53.219:80... connected.\n",
            "HTTP request sent, awaiting response... 404 Not Found\n",
            "2022-11-17 20:12:40 ERROR 404: Not Found.\n",
            "\n",
            "tar: test.tar: Cannot open: No such file or directory\n",
            "tar: Error is not recoverable: exiting now\n"
          ]
        }
      ],
      "source": [
        "!rm -rf sample_data\n",
        "!wget --no-check-certificate http://195.154.53.219/downloads/test.tar\n",
        "!tar xf test.tar -C 'bases' --one-top-level\n",
        "!rm test.tar"
      ]
    },
    {
      "cell_type": "markdown",
      "metadata": {
        "id": "P_-BpaZnLDmn"
      },
      "source": [
        "#**5. Création du fichier de labels \"classes.txt\"**"
      ]
    },
    {
      "cell_type": "code",
      "execution_count": 2,
      "metadata": {
        "id": "70eR5xy2nNZP"
      },
      "outputs": [],
      "source": [
        "!echo '%s\\n' 'fire' 'no_fire' 'start_fire'> classes.txt"
      ]
    },
    {
      "cell_type": "code",
      "execution_count": 8,
      "metadata": {
        "colab": {
          "base_uri": "https://localhost:8080/"
        },
        "id": "xOpZcxvdptF3",
        "outputId": "d441380c-3492-4de5-cb27-9d143c68b874"
      },
      "outputs": [
        {
          "name": "stdout",
          "output_type": "stream",
          "text": [
            "Mounted at /content/drive\n"
          ]
        }
      ],
      "source": [
        "from google.colab import drive\n",
        "drive.mount('/content/drive')"
      ]
    },
    {
      "cell_type": "markdown",
      "metadata": {
        "id": "YyXXoZphLN1-"
      },
      "source": [
        "#**6. Paramètres d'entrainement et sélection du modèle pré-entrainé**"
      ]
    },
    {
      "cell_type": "code",
      "execution_count": null,
      "metadata": {
        "colab": {
          "base_uri": "https://localhost:8080/"
        },
        "id": "hANxz2kKsMq4",
        "outputId": "6c646109-f74c-43d9-9e13-80a972fceff1"
      },
      "outputs": [
        {
          "name": "stdout",
          "output_type": "stream",
          "text": [
            "big  test\n"
          ]
        }
      ],
      "source": [
        "!ls bases/"
      ]
    },
    {
      "cell_type": "code",
      "execution_count": 78,
      "metadata": {
        "id": "HwKf5hQLnUPi"
      },
      "outputs": [],
      "source": [
        "nb_classes = 3\n",
        "batch_size=8 #@param [1,2,4,8,16,32,64,128] {type:\"raw\"}\n",
        "epochs=20 #@param [5, 10,20,50,100,200] {type:\"raw\"}\n",
        "#dataset_path = \"bases/\"\n",
        "dataset_path= \"bases_\"\n",
        "input_dim=224 #@param [224,299] {type:\"raw\"}  \n",
        "dataset_name = \"FIRE_DATABASE_3\" #@param [\"small\", \"big\", \"DB2\", \"DB3\"]\n",
        "train_dataset = os.path.join(dataset_path, dataset_name)\n",
        "test_name='test' #@param [\"test\",\"test1\",\"test2\",\"test3\"]\n",
        "test_dataset = os.path.join(dataset_path, test_name)\n",
        "classes_path = \"classes.txt\"\n",
        "classifier = \"DenseNet201\" #@param [\"Xception\",\"VGG16\",\"VGG19\",\"ResNet50\",\"ResNet121\",\"ResNet152\",\"ResNet50V2\",\"ResNet121V2\",\"ResNet152V2\",\"InceptionV3\",\"InceptionResNetV2\",\"MobileNet\",\"MobileNetV2\",\"DenseNet121\",\"DenseNet169\",\"DenseNet201\",\"NASNetLarge\",\"NASNetMobile\"] {type:\"string\"}\n"
      ]
    },
    {
      "cell_type": "markdown",
      "metadata": {
        "id": "7SBzh646b5yz"
      },
      "source": [
        "# **7. Compter le nombre de classes**"
      ]
    },
    {
      "cell_type": "code",
      "execution_count": 71,
      "metadata": {
        "id": "NZ55HVhkb5y3"
      },
      "outputs": [],
      "source": [
        "# Récupérer les noms des classes\n",
        "with open(classes_path, 'r') as f:\n",
        "    classes = f.readlines()\n",
        "    classes = list(map(lambda x: x.strip(), classes))\n",
        "num_classes = len(classes)"
      ]
    },
    {
      "cell_type": "markdown",
      "metadata": {
        "id": "NTyWV0pQb5zD"
      },
      "source": [
        "# **8. Création du jeu de données d'entraînement  (A COMPLETER)**"
      ]
    },
    {
      "cell_type": "code",
      "execution_count": 72,
      "metadata": {
        "colab": {
          "base_uri": "https://localhost:8080/"
        },
        "id": "RQs_BE0h_lQv",
        "outputId": "4686de02-356b-4e20-bc3a-317c86b0e236"
      },
      "outputs": [
        {
          "name": "stdout",
          "output_type": "stream",
          "text": [
            "Found 1200 images belonging to 3 classes.\n",
            "Found 300 images belonging to 3 classes.\n"
          ]
        }
      ],
      "source": [
        "from keras.preprocessing.image import ImageDataGenerator\n",
        "\n",
        "train_datagen = ImageDataGenerator(\n",
        "        rotation_range=30,\n",
        "        width_shift_range=0.2,\n",
        "        height_shift_range=0.2,\n",
        "    #    rescale=1./255,\n",
        "    #    zca_whitening=True,\n",
        "    #    zca_epsilon=1e-06,\n",
        "        brightness_range=[0.2,1],\n",
        "        fill_mode='nearest',\n",
        "        vertical_flip=False,\n",
        "        shear_range=0.2,\n",
        "        zoom_range=0.2,\n",
        "        horizontal_flip=True,\n",
        "        validation_split=0.2)\n",
        "\n",
        "\n",
        "# this is the augmentation configuration we will use for testing:\n",
        "# only rescaling\n",
        "test_datagen = ImageDataGenerator(rescale=1./255)\n",
        "\n",
        "# this is a generator that will read pictures found in\n",
        "# subfolers of 'data/train', and indefinitely generate\n",
        "# batches of augmented image data\n",
        "train_generator = train_datagen.flow_from_directory(\n",
        "        train_dataset,  # this is the target directory\n",
        "        target_size=(input_dim,input_dim),  # all images will be resized to 150x150\n",
        "        batch_size=batch_size,\n",
        "        seed=42,\n",
        "        subset=\"training\",\n",
        "        class_mode='categorical')  # since we use binary_crossentropy loss, we need binary labels\n",
        "\n",
        "# this is a similar generator, for validation data\n",
        "validation_generator = train_datagen.flow_from_directory(\n",
        "        train_dataset,\n",
        "        target_size=(input_dim,input_dim),\n",
        "        seed=42,\n",
        "        subset=\"validation\",           # Sélection du jeu de données d'entraînement\n",
        "        batch_size=batch_size,\n",
        "        class_mode='categorical')"
      ]
    },
    {
      "cell_type": "markdown",
      "metadata": {
        "id": "ji2AfPd88PC-"
      },
      "source": [
        "#**9. Créer le jeu de validation (A COMPLETER : même générateur, One-Hot, jeu \"validation\")**"
      ]
    },
    {
      "cell_type": "markdown",
      "metadata": {
        "id": "Wi8oBrIJWa5s"
      },
      "source": [
        "# **10. Télécharger un modèle préentraîné et appliquer le Transfer Learning**\n",
        "\n"
      ]
    },
    {
      "cell_type": "code",
      "execution_count": 10,
      "metadata": {},
      "outputs": [
        {
          "name": "stdout",
          "output_type": "stream",
          "text": [
            "Defaulting to user installation because normal site-packages is not writeable\n",
            "Collecting keras==2.9.0\n",
            "  Downloading keras-2.9.0-py2.py3-none-any.whl (1.6 MB)\n",
            "\u001b[2K     \u001b[90m━━━━━━━━━━━━━━━━━━━━━━━━━━━━━━━━━━━━━━━━\u001b[0m \u001b[32m1.6/1.6 MB\u001b[0m \u001b[31m6.4 MB/s\u001b[0m eta \u001b[36m0:00:00\u001b[0ma \u001b[36m0:00:01\u001b[0m\n",
            "\u001b[?25hInstalling collected packages: keras\n",
            "  Attempting uninstall: keras\n",
            "    Found existing installation: keras 2.11.0\n",
            "    Uninstalling keras-2.11.0:\n",
            "      Successfully uninstalled keras-2.11.0\n",
            "\u001b[31mERROR: pip's dependency resolver does not currently take into account all the packages that are installed. This behaviour is the source of the following dependency conflicts.\n",
            "tensorflow 2.8.0 requires keras<2.9,>=2.8.0rc0, but you have keras 2.9.0 which is incompatible.\n",
            "tensorflow-gpu 2.8.0 requires keras<2.9,>=2.8.0rc0, but you have keras 2.9.0 which is incompatible.\u001b[0m\u001b[31m\n",
            "\u001b[0mSuccessfully installed keras-2.9.0\n",
            "\n",
            "\u001b[1m[\u001b[0m\u001b[34;49mnotice\u001b[0m\u001b[1;39;49m]\u001b[0m\u001b[39;49m A new release of pip available: \u001b[0m\u001b[31;49m22.1.2\u001b[0m\u001b[39;49m -> \u001b[0m\u001b[32;49m22.3.1\u001b[0m\n",
            "\u001b[1m[\u001b[0m\u001b[34;49mnotice\u001b[0m\u001b[1;39;49m]\u001b[0m\u001b[39;49m To update, run: \u001b[0m\u001b[32;49mpip install --upgrade pip\u001b[0m\n"
          ]
        }
      ],
      "source": [
        "!python -m pip install keras==2.9.0"
      ]
    },
    {
      "cell_type": "code",
      "execution_count": 11,
      "metadata": {},
      "outputs": [
        {
          "data": {
            "text/plain": [
              "'2.8.0'"
            ]
          },
          "execution_count": 11,
          "metadata": {},
          "output_type": "execute_result"
        }
      ],
      "source": [
        "import keras\n",
        "keras.__version__"
      ]
    },
    {
      "cell_type": "code",
      "execution_count": 80,
      "metadata": {
        "id": "_WCBo9Oyb5zc"
      },
      "outputs": [
        {
          "name": "stdout",
          "output_type": "stream",
          "text": [
            "Downloading data from https://storage.googleapis.com/tensorflow/keras-applications/inception_v3/inception_v3_weights_tf_dim_ordering_tf_kernels_notop.h5\n",
            "87916544/87910968 [==============================] - 20s 0us/step\n",
            "87924736/87910968 [==============================] - 20s 0us/step\n"
          ]
        }
      ],
      "source": [
        "from keras.applications.inception_v3 import InceptionV3\n",
        "from keras.applications.resnet import ResNet50\n",
        "from keras.applications.resnet_v2 import  ResNet152V2, ResNet50V2\n",
        "from keras.applications.inception_resnet_v2 import InceptionResNetV2\n",
        "#from keras.applications import MobileNetV2\n",
        "from keras.applications.densenet import DenseNet201\n",
        "from keras import activations\n",
        "\n",
        "#base_model = MobileNet(include_top=False,weights=\"imagenet\",input_shape=(input_dim,input_dim,3))\n",
        "base_model = InceptionV3(include_top=False,weights=\"imagenet\",input_shape=(input_dim,input_dim,3))\n",
        "#base_model = MobileNetV2(include_top=False,weights=\"imagenet\",input_shape=(input_dim,input_dim,3))\n",
        "#base_model = VGG16(include_top=False,weights=\"imagenet\",input_shape=(input_dim,input_dim,3))\n",
        "#base_model = DenseNet201(include_top=False,weights=\"imagenet\",input_shape=(input_dim,input_dim,3))\n",
        "\n",
        "for layer in base_model.layers:\n",
        "  layer.freeze=True\n",
        "\n",
        "x=base_model.output\n",
        "x=GlobalAveragePooling2D()(x)\n",
        "\n",
        "x= Dense(512,activation=\"relu\")(x)\n",
        "# x= Dense(256,activation=\"relu\")(x)\n",
        "# x= Dense(128,activation=\"relu\")(x)\n",
        "# x= Dense(64,activation=\"relu\")(x)\n",
        "\n",
        "\n",
        "# x = Dropout(0.425)(x)\n",
        "y = Dense(nb_classes,activation=\"softmax\")(x)\n",
        "\n",
        "model = Model(inputs=base_model.input,outputs=y)"
      ]
    },
    {
      "cell_type": "markdown",
      "metadata": {
        "id": "YRkLslfSCr_P"
      },
      "source": [
        "# **11. Geler puis dégeler les poids des premières couches**"
      ]
    },
    {
      "cell_type": "markdown",
      "metadata": {
        "id": "ItQJ7cVfCAXI"
      },
      "source": [
        "# **11. Compiler le modèle avec la descente de gradient stochastique DSG**\n"
      ]
    },
    {
      "cell_type": "code",
      "execution_count": 81,
      "metadata": {
        "id": "4wUoldu92n-b"
      },
      "outputs": [],
      "source": [
        "# recompiler le modèle\n",
        "#model.compile(loss=\"CategoricalCrossentropy\",optimizer=\"sgd\",metrics=[\"accuracy\"])\n",
        "model.compile(loss=\"CategoricalCrossentropy\",optimizer=\"adam\",metrics=[\"accuracy\"])"
      ]
    },
    {
      "cell_type": "markdown",
      "metadata": {
        "id": "q6CWnXEPb5zX"
      },
      "source": [
        "# **12. Entraîner le modèle**"
      ]
    },
    {
      "cell_type": "code",
      "execution_count": 82,
      "metadata": {
        "colab": {
          "base_uri": "https://localhost:8080/"
        },
        "id": "GPGAZ2Vab5zo",
        "outputId": "556d1bf4-a3e1-4b2e-c137-8aece838377f"
      },
      "outputs": [
        {
          "name": "stdout",
          "output_type": "stream",
          "text": [
            "Epoch 1/25\n",
            "WARNING:tensorflow:AutoGraph could not transform <function Model.make_train_function.<locals>.train_function at 0x7fdbac69b170> and will run it as-is.\n",
            "Please report this to the TensorFlow team. When filing the bug, set the verbosity to 10 (on Linux, `export AUTOGRAPH_VERBOSITY=10`) and attach the full output.\n",
            "Cause: closure mismatch, requested ('self', 'step_function'), but source function had ()\n",
            "To silence this warning, decorate the function with @tf.autograph.experimental.do_not_convert\n",
            "WARNING: AutoGraph could not transform <function Model.make_train_function.<locals>.train_function at 0x7fdbac69b170> and will run it as-is.\n",
            "Please report this to the TensorFlow team. When filing the bug, set the verbosity to 10 (on Linux, `export AUTOGRAPH_VERBOSITY=10`) and attach the full output.\n",
            "Cause: closure mismatch, requested ('self', 'step_function'), but source function had ()\n",
            "To silence this warning, decorate the function with @tf.autograph.experimental.do_not_convert\n",
            "150/150 [==============================] - ETA: 0s - loss: 0.7247 - accuracy: 0.7542WARNING:tensorflow:AutoGraph could not transform <function Model.make_test_function.<locals>.test_function at 0x7fdce01715f0> and will run it as-is.\n",
            "Please report this to the TensorFlow team. When filing the bug, set the verbosity to 10 (on Linux, `export AUTOGRAPH_VERBOSITY=10`) and attach the full output.\n",
            "Cause: closure mismatch, requested ('self', 'step_function'), but source function had ()\n",
            "To silence this warning, decorate the function with @tf.autograph.experimental.do_not_convert\n",
            "WARNING: AutoGraph could not transform <function Model.make_test_function.<locals>.test_function at 0x7fdce01715f0> and will run it as-is.\n",
            "Please report this to the TensorFlow team. When filing the bug, set the verbosity to 10 (on Linux, `export AUTOGRAPH_VERBOSITY=10`) and attach the full output.\n",
            "Cause: closure mismatch, requested ('self', 'step_function'), but source function had ()\n",
            "To silence this warning, decorate the function with @tf.autograph.experimental.do_not_convert\n",
            "\n",
            "Epoch 1: val_accuracy improved from -inf to 0.65333, saving model to ./groupe_15_model_inceptionv3.h5\n",
            "150/150 [==============================] - 64s 362ms/step - loss: 0.7247 - accuracy: 0.7542 - val_loss: 1.9735 - val_accuracy: 0.6533\n",
            "Epoch 2/25\n",
            "150/150 [==============================] - ETA: 0s - loss: 0.5694 - accuracy: 0.7958\n",
            "Epoch 2: val_accuracy improved from 0.65333 to 0.70333, saving model to ./groupe_15_model_inceptionv3.h5\n",
            "150/150 [==============================] - 69s 458ms/step - loss: 0.5694 - accuracy: 0.7958 - val_loss: 1.6359 - val_accuracy: 0.7033\n",
            "Epoch 3/25\n",
            "150/150 [==============================] - ETA: 0s - loss: 0.5250 - accuracy: 0.8275\n",
            "Epoch 3: val_accuracy did not improve from 0.70333\n",
            "150/150 [==============================] - 50s 335ms/step - loss: 0.5250 - accuracy: 0.8275 - val_loss: 2.3110 - val_accuracy: 0.6967\n",
            "Epoch 4/25\n",
            "150/150 [==============================] - ETA: 0s - loss: 0.4581 - accuracy: 0.8350\n",
            "Epoch 4: val_accuracy improved from 0.70333 to 0.80667, saving model to ./groupe_15_model_inceptionv3.h5\n",
            "150/150 [==============================] - 57s 376ms/step - loss: 0.4581 - accuracy: 0.8350 - val_loss: 0.9692 - val_accuracy: 0.8067\n",
            "Epoch 5/25\n",
            "150/150 [==============================] - ETA: 0s - loss: 0.5158 - accuracy: 0.8125\n",
            "Epoch 5: val_accuracy did not improve from 0.80667\n",
            "150/150 [==============================] - 58s 383ms/step - loss: 0.5158 - accuracy: 0.8125 - val_loss: 250.3114 - val_accuracy: 0.4733\n",
            "Epoch 6/25\n",
            "150/150 [==============================] - ETA: 0s - loss: 0.5010 - accuracy: 0.8283\n",
            "Epoch 6: val_accuracy did not improve from 0.80667\n",
            "150/150 [==============================] - 53s 355ms/step - loss: 0.5010 - accuracy: 0.8283 - val_loss: 0.6388 - val_accuracy: 0.7867\n",
            "Epoch 7/25\n",
            "150/150 [==============================] - ETA: 0s - loss: 0.4459 - accuracy: 0.8400\n",
            "Epoch 7: val_accuracy improved from 0.80667 to 0.84000, saving model to ./groupe_15_model_inceptionv3.h5\n",
            "150/150 [==============================] - 54s 358ms/step - loss: 0.4459 - accuracy: 0.8400 - val_loss: 0.4689 - val_accuracy: 0.8400\n",
            "Epoch 8/25\n",
            "150/150 [==============================] - ETA: 0s - loss: 0.4290 - accuracy: 0.8450\n",
            "Epoch 8: val_accuracy improved from 0.84000 to 0.87333, saving model to ./groupe_15_model_inceptionv3.h5\n",
            "150/150 [==============================] - 45s 301ms/step - loss: 0.4290 - accuracy: 0.8450 - val_loss: 0.3926 - val_accuracy: 0.8733\n",
            "Epoch 9/25\n",
            "150/150 [==============================] - ETA: 0s - loss: 0.3959 - accuracy: 0.8558\n",
            "Epoch 9: val_accuracy did not improve from 0.87333\n",
            "150/150 [==============================] - 45s 297ms/step - loss: 0.3959 - accuracy: 0.8558 - val_loss: 0.8106 - val_accuracy: 0.7767\n",
            "Epoch 10/25\n",
            "150/150 [==============================] - ETA: 0s - loss: 0.3817 - accuracy: 0.8592\n",
            "Epoch 10: val_accuracy did not improve from 0.87333\n",
            "150/150 [==============================] - 43s 286ms/step - loss: 0.3817 - accuracy: 0.8592 - val_loss: 1.7000 - val_accuracy: 0.7433\n",
            "Epoch 11/25\n",
            "150/150 [==============================] - ETA: 0s - loss: 0.3654 - accuracy: 0.8742\n",
            "Epoch 11: val_accuracy did not improve from 0.87333\n",
            "150/150 [==============================] - 47s 316ms/step - loss: 0.3654 - accuracy: 0.8742 - val_loss: 0.5395 - val_accuracy: 0.8333\n",
            "Epoch 12/25\n",
            "150/150 [==============================] - ETA: 0s - loss: 0.3676 - accuracy: 0.8767\n",
            "Epoch 12: val_accuracy did not improve from 0.87333\n",
            "150/150 [==============================] - 46s 305ms/step - loss: 0.3676 - accuracy: 0.8767 - val_loss: 0.7331 - val_accuracy: 0.7500\n",
            "Epoch 13/25\n",
            "150/150 [==============================] - ETA: 0s - loss: 0.3391 - accuracy: 0.8708\n",
            "Epoch 13: val_accuracy improved from 0.87333 to 0.88667, saving model to ./groupe_15_model_inceptionv3.h5\n",
            "150/150 [==============================] - 49s 324ms/step - loss: 0.3391 - accuracy: 0.8708 - val_loss: 0.8235 - val_accuracy: 0.8867\n",
            "Epoch 14/25\n",
            "150/150 [==============================] - ETA: 0s - loss: 0.3803 - accuracy: 0.8617\n",
            "Epoch 14: val_accuracy did not improve from 0.88667\n",
            "150/150 [==============================] - 47s 312ms/step - loss: 0.3803 - accuracy: 0.8617 - val_loss: 3.0654 - val_accuracy: 0.7167\n",
            "Epoch 15/25\n",
            "150/150 [==============================] - ETA: 0s - loss: 0.3410 - accuracy: 0.8792\n",
            "Epoch 15: val_accuracy did not improve from 0.88667\n",
            "150/150 [==============================] - 48s 322ms/step - loss: 0.3410 - accuracy: 0.8792 - val_loss: 0.5674 - val_accuracy: 0.8800\n",
            "Epoch 16/25\n",
            "150/150 [==============================] - ETA: 0s - loss: 0.3316 - accuracy: 0.8942\n",
            "Epoch 16: val_accuracy did not improve from 0.88667\n",
            "150/150 [==============================] - 47s 311ms/step - loss: 0.3316 - accuracy: 0.8942 - val_loss: 0.3632 - val_accuracy: 0.8600\n",
            "Epoch 17/25\n",
            "150/150 [==============================] - ETA: 0s - loss: 0.3134 - accuracy: 0.8967\n",
            "Epoch 17: val_accuracy did not improve from 0.88667\n",
            "150/150 [==============================] - 48s 321ms/step - loss: 0.3134 - accuracy: 0.8967 - val_loss: 0.8167 - val_accuracy: 0.7233\n",
            "Epoch 18/25\n",
            "150/150 [==============================] - ETA: 0s - loss: 0.3286 - accuracy: 0.8750\n",
            "Epoch 18: val_accuracy improved from 0.88667 to 0.90667, saving model to ./groupe_15_model_inceptionv3.h5\n",
            "150/150 [==============================] - 52s 347ms/step - loss: 0.3286 - accuracy: 0.8750 - val_loss: 0.2811 - val_accuracy: 0.9067\n",
            "Epoch 19/25\n",
            "150/150 [==============================] - ETA: 0s - loss: 0.2901 - accuracy: 0.8983\n",
            "Epoch 19: val_accuracy did not improve from 0.90667\n",
            "150/150 [==============================] - 43s 283ms/step - loss: 0.2901 - accuracy: 0.8983 - val_loss: 0.5215 - val_accuracy: 0.8833\n",
            "Epoch 20/25\n",
            "150/150 [==============================] - ETA: 0s - loss: 0.2916 - accuracy: 0.8892\n",
            "Epoch 20: val_accuracy did not improve from 0.90667\n",
            "150/150 [==============================] - 41s 270ms/step - loss: 0.2916 - accuracy: 0.8892 - val_loss: 42.1740 - val_accuracy: 0.6100\n",
            "Epoch 21/25\n",
            "150/150 [==============================] - ETA: 0s - loss: 0.3197 - accuracy: 0.8792\n",
            "Epoch 21: val_accuracy did not improve from 0.90667\n",
            "150/150 [==============================] - 41s 272ms/step - loss: 0.3197 - accuracy: 0.8792 - val_loss: 6.3766 - val_accuracy: 0.6100\n",
            "Epoch 22/25\n",
            "150/150 [==============================] - ETA: 0s - loss: 0.3149 - accuracy: 0.8900\n",
            "Epoch 22: val_accuracy did not improve from 0.90667\n",
            "150/150 [==============================] - 41s 272ms/step - loss: 0.3149 - accuracy: 0.8900 - val_loss: 0.4581 - val_accuracy: 0.8467\n",
            "Epoch 23/25\n",
            "150/150 [==============================] - ETA: 0s - loss: 0.3246 - accuracy: 0.8767\n",
            "Epoch 23: val_accuracy did not improve from 0.90667\n",
            "150/150 [==============================] - 44s 290ms/step - loss: 0.3246 - accuracy: 0.8767 - val_loss: 2.2440 - val_accuracy: 0.6900\n",
            "Epoch 24/25\n",
            "150/150 [==============================] - ETA: 0s - loss: 0.3026 - accuracy: 0.9000\n",
            "Epoch 24: val_accuracy did not improve from 0.90667\n",
            "150/150 [==============================] - 44s 292ms/step - loss: 0.3026 - accuracy: 0.9000 - val_loss: 0.6692 - val_accuracy: 0.7967\n",
            "Epoch 25/25\n",
            "150/150 [==============================] - ETA: 0s - loss: 0.2627 - accuracy: 0.9000\n",
            "Epoch 25: val_accuracy did not improve from 0.90667\n",
            "150/150 [==============================] - 44s 289ms/step - loss: 0.2627 - accuracy: 0.9000 - val_loss: 0.4461 - val_accuracy: 0.8400\n"
          ]
        }
      ],
      "source": [
        "\n",
        "seed_everything()\n",
        "# tf.config.experimental.enable_op_determinism()\n",
        "#\"/content/drive/MyDrive/MyModels/groupe_15_model_DenseNet201.h5\n",
        "model_cp = ModelCheckpoint(\"./groupe_15_model_inceptionv3.h5\",monitor=\"val_accuracy\",save_best_only=True,verbose=1)\n",
        "\n",
        "early_stopping = EarlyStopping(monitor=\"val_accuracy\",patience=7)\n",
        "\n",
        "history=model.fit(train_generator,validation_data=validation_generator,epochs=25,callbacks=[model_cp,early_stopping],shuffle=False)\n"
      ]
    },
    {
      "cell_type": "markdown",
      "metadata": {
        "id": "xVOg-VgI9YMB"
      },
      "source": [
        "#**13. Sauvegarder le modèle final (A COMPLETER)**\n"
      ]
    },
    {
      "cell_type": "code",
      "execution_count": 83,
      "metadata": {
        "id": "BbAlAYpm9fg5"
      },
      "outputs": [],
      "source": [
        "model.save(\"final_model.h5\")"
      ]
    },
    {
      "cell_type": "markdown",
      "metadata": {
        "id": "bnaeA1bv2pc1"
      },
      "source": []
    },
    {
      "cell_type": "code",
      "execution_count": 84,
      "metadata": {
        "colab": {
          "base_uri": "https://localhost:8080/",
          "height": 295
        },
        "id": "QtIwdjee_KLk",
        "outputId": "976bf659-b9d0-4585-f9d9-47e25c8cd45d"
      },
      "outputs": [
        {
          "data": {
            "image/png": "[encoded data removed]",
            "text/plain": [
              "<Figure size 432x288 with 1 Axes>"
            ]
          },
          "metadata": {
            "needs_background": "light"
          },
          "output_type": "display_data"
        }
      ],
      "source": [
        "plt.plot(history.history['accuracy'])\n",
        "plt.plot(history.history['val_accuracy'])\n",
        "plt.title('model accuracy')\n",
        "plt.ylabel('accuracy')\n",
        "plt.xlabel('epoch')\n",
        "plt.legend(['train', 'val'], loc='upper left')\n",
        "plt.show()"
      ]
    },
    {
      "cell_type": "markdown",
      "metadata": {
        "id": "ZgVB5J2yDOul"
      },
      "source": [
        "# **15. Créer le jeu de données de test**"
      ]
    },
    {
      "cell_type": "code",
      "execution_count": 87,
      "metadata": {
        "colab": {
          "base_uri": "https://localhost:8080/"
        },
        "id": "c0srm2t6-TMK",
        "outputId": "a46df42d-d90d-4a4f-8b73-a8e4c3321be4"
      },
      "outputs": [
        {
          "name": "stdout",
          "output_type": "stream",
          "text": [
            "Found 210 images belonging to 3 classes.\n"
          ]
        }
      ],
      "source": [
        "# test_ds = tf.keras.preprocessing.image_dataset_from_directory(\n",
        "# \ttest_dataset,               # chemin vers le jeu de données\n",
        "# \tseed=42,                     # Initialisation du générateur aléatoire (permutations)\n",
        "# \timage_size=(input_dim,input_dim),   # Taille des images d'entrée\n",
        "# \tbatch_size=32,\n",
        "#   shuffle=False,   # Taille du mini-batch\n",
        "#   label_mode=\"categorical\"    # Conversion au format One-Hot\n",
        "# )\n",
        "\n",
        "test_datagen = ImageDataGenerator()\n",
        "\n",
        "test_generator = test_datagen.flow_from_directory(\n",
        "        \"bases/test\",  # this is the target directory\n",
        "        target_size=(input_dim,input_dim),  # all images will be resized to 150x150\n",
        "        batch_size=1,\n",
        "        seed=42,\n",
        "        class_mode='categorical')  # since we use binary_crossentropy loss, we need binary labels\n",
        "\n"
      ]
    },
    {
      "cell_type": "code",
      "execution_count": 88,
      "metadata": {},
      "outputs": [
        {
          "data": {
            "text/plain": [
              "keras.preprocessing.image.DirectoryIterator"
            ]
          },
          "execution_count": 88,
          "metadata": {},
          "output_type": "execute_result"
        }
      ],
      "source": [
        "type(test_generator)\n"
      ]
    },
    {
      "cell_type": "code",
      "execution_count": 89,
      "metadata": {},
      "outputs": [
        {
          "name": "stderr",
          "output_type": "stream",
          "text": [
            "100%|█████████▉| 209/210 [00:06<00:00, 34.62it/s]\n"
          ]
        }
      ],
      "source": [
        "import tqdm\n",
        "y_test = []\n",
        "for image , label in tqdm.tqdm(test_generator):\n",
        "    y_test.append(label)\n",
        "    if len(y_test)==len(test_generator):\n",
        "        break\n",
        "\n",
        "y_test = np.array(y_test)"
      ]
    },
    {
      "cell_type": "code",
      "execution_count": 48,
      "metadata": {},
      "outputs": [
        {
          "data": {
            "text/plain": [
              "(210, 3)"
            ]
          },
          "execution_count": 48,
          "metadata": {},
          "output_type": "execute_result"
        }
      ],
      "source": []
    },
    {
      "cell_type": "markdown",
      "metadata": {
        "id": "sA3Dc4ONDdS_"
      },
      "source": [
        "# **16. Evaluer le modèle avec ce jeu de données de test**"
      ]
    },
    {
      "cell_type": "code",
      "execution_count": 90,
      "metadata": {
        "id": "7sghKVcmqEbH"
      },
      "outputs": [],
      "source": [
        "model.load_weights(\"./groupe_15_model_inceptionv3.h5\")"
      ]
    },
    {
      "cell_type": "code",
      "execution_count": null,
      "metadata": {
        "id": "UKxWc8Mgt9c9"
      },
      "outputs": [],
      "source": [
        "model.load_weights(\"/content/drive/MyDrive/MyModels/resnet50_f_checkpoint.h5\")"
      ]
    },
    {
      "cell_type": "code",
      "execution_count": 91,
      "metadata": {
        "colab": {
          "base_uri": "https://localhost:8080/"
        },
        "id": "mcxTkzmzrnOM",
        "outputId": "f0065aaf-fa60-4424-acff-91db2416b380"
      },
      "outputs": [
        {
          "name": "stdout",
          "output_type": "stream",
          "text": [
            "210/210 [==============================] - 11s 44ms/step - loss: 0.3114 - accuracy: 0.8381\n"
          ]
        },
        {
          "data": {
            "text/plain": [
              "[0.3113979995250702, 0.8380952477455139]"
            ]
          },
          "execution_count": 91,
          "metadata": {},
          "output_type": "execute_result"
        }
      ],
      "source": [
        "model.evaluate(test_generator)"
      ]
    },
    {
      "cell_type": "code",
      "execution_count": 53,
      "metadata": {},
      "outputs": [],
      "source": [
        "import keras\n",
        "\n",
        "model2 = keras.models.load_model('/mnt/c/Users/othma/Downloads/best_checkpoint.h5')"
      ]
    },
    {
      "cell_type": "code",
      "execution_count": 54,
      "metadata": {},
      "outputs": [],
      "source": [
        "model2.compile(loss=\"CategoricalCrossentropy\",optimizer=\"adam\",metrics=[\"accuracy\"])"
      ]
    },
    {
      "cell_type": "code",
      "execution_count": 55,
      "metadata": {},
      "outputs": [
        {
          "name": "stdout",
          "output_type": "stream",
          "text": [
            "WARNING:tensorflow:AutoGraph could not transform <function Model.make_predict_function.<locals>.predict_function at 0x7fdb8daf4f80> and will run it as-is.\n",
            "Please report this to the TensorFlow team. When filing the bug, set the verbosity to 10 (on Linux, `export AUTOGRAPH_VERBOSITY=10`) and attach the full output.\n",
            "Cause: closure mismatch, requested ('self', 'step_function'), but source function had ()\n",
            "To silence this warning, decorate the function with @tf.autograph.experimental.do_not_convert\n",
            "WARNING: AutoGraph could not transform <function Model.make_predict_function.<locals>.predict_function at 0x7fdb8daf4f80> and will run it as-is.\n",
            "Please report this to the TensorFlow team. When filing the bug, set the verbosity to 10 (on Linux, `export AUTOGRAPH_VERBOSITY=10`) and attach the full output.\n",
            "Cause: closure mismatch, requested ('self', 'step_function'), but source function had ()\n",
            "To silence this warning, decorate the function with @tf.autograph.experimental.do_not_convert\n"
          ]
        }
      ],
      "source": [
        "y_pred  = model2.predict(test_generator)"
      ]
    },
    {
      "cell_type": "code",
      "execution_count": 27,
      "metadata": {},
      "outputs": [
        {
          "data": {
            "text/plain": [
              "(210, 3)"
            ]
          },
          "execution_count": 27,
          "metadata": {},
          "output_type": "execute_result"
        }
      ],
      "source": [
        "y_pred.shape"
      ]
    },
    {
      "cell_type": "code",
      "execution_count": 56,
      "metadata": {},
      "outputs": [],
      "source": [
        "from sklearn import metrics\n",
        "matrix = metrics.confusion_matrix(y_test.squeeze().argmax(axis=1), y_pred.argmax(axis=1))"
      ]
    },
    {
      "cell_type": "code",
      "execution_count": null,
      "metadata": {},
      "outputs": [],
      "source": []
    },
    {
      "cell_type": "code",
      "execution_count": 57,
      "metadata": {},
      "outputs": [
        {
          "data": {
            "text/plain": [
              "[Text(0, 0.5, 'fire'), Text(0, 1.5, 'no fire'), Text(0, 2.5, 'start fire')]"
            ]
          },
          "execution_count": 57,
          "metadata": {},
          "output_type": "execute_result"
        },
        {
          "data": {
            "image/png": "[encoded data removed]",
            "text/plain": [
              "<Figure size 432x288 with 2 Axes>"
            ]
          },
          "metadata": {
            "needs_background": "light"
          },
          "output_type": "display_data"
        }
      ],
      "source": [
        "import seaborn as sns\n",
        "ax= plt.subplot()\n",
        "sns.heatmap(matrix, annot=True, fmt='g', ax=ax);  #annot=True to annotate cells, ftm='g' to disable scientific notation\n",
        "\n",
        "# labels, title and ticks\n",
        "ax.set_xlabel('Predicted labels')\n",
        "ax.set_ylabel('True labels')\n",
        "ax.set_title('Confusion Matrix') \n",
        "ax.xaxis.set_ticklabels(['fire', 'no fire','start fire']) \n",
        "ax.yaxis.set_ticklabels(['fire', 'no fire','start fire'])"
      ]
    },
    {
      "cell_type": "markdown",
      "metadata": {
        "id": "qvQJfqsfb_9V"
      },
      "source": [
        "with last checkpoint"
      ]
    },
    {
      "cell_type": "code",
      "execution_count": null,
      "metadata": {
        "id": "cqDwUpZg-kXC"
      },
      "outputs": [],
      "source": [
        "model.evaluate(test_generator)"
      ]
    },
    {
      "cell_type": "markdown",
      "metadata": {
        "id": "NhupWlNPcEGc"
      },
      "source": [
        "with best checkpoint"
      ]
    },
    {
      "cell_type": "code",
      "execution_count": null,
      "metadata": {
        "id": "EtWlR6eJk3Rp"
      },
      "outputs": [],
      "source": [
        "!unzip  \"/content/drive/MyDrive/dataset_fire/archive (1).zip\" -d /content/drive/MyDrive/dataset_fire/dataset_aux"
      ]
    },
    {
      "cell_type": "code",
      "execution_count": null,
      "metadata": {
        "id": "yREPBL9ZmaU_"
      },
      "outputs": [],
      "source": [
        "!cp /content/drive/MyDrive/dataset_fire/dataset_aux/ForestFireDataset/Training/fire/* /content/drive/MyDrive/dataset_fire/small/fire/ "
      ]
    },
    {
      "cell_type": "code",
      "execution_count": null,
      "metadata": {
        "id": "wIVGnlpLnG84"
      },
      "outputs": [],
      "source": [
        "!cp /content/drive/MyDrive/dataset_fire/dataset_aux/ForestFireDataset/Training/nofire/* /content/drive/MyDrive/dataset_fire/small/no_fire/ "
      ]
    },
    {
      "cell_type": "code",
      "execution_count": null,
      "metadata": {
        "id": "2-jx0jUNnbn8"
      },
      "outputs": [],
      "source": []
    },
    {
      "cell_type": "code",
      "execution_count": null,
      "metadata": {
        "id": "juzJpDXbc9zV"
      },
      "outputs": [],
      "source": [
        "!cp -r bases/ drive/MyDrive/dataset_fire"
      ]
    },
    {
      "cell_type": "code",
      "execution_count": null,
      "metadata": {
        "id": "PdVhbnmEc3Xx"
      },
      "outputs": [],
      "source": [
        "!cp best_checkpoint.h5 drive/MyDrive/InceptionV3_checkpoint.h5"
      ]
    },
    {
      "cell_type": "code",
      "execution_count": null,
      "metadata": {
        "id": "u_i-BbtZLKbl"
      },
      "outputs": [],
      "source": [
        "!cp final_model.h5 drive/MyDrive/Xception_checkpoint__.h5"
      ]
    },
    {
      "cell_type": "code",
      "execution_count": null,
      "metadata": {
        "id": "R21jF4a9r6hQ"
      },
      "outputs": [],
      "source": [
        "model.evaluate(test_generator)"
      ]
    },
    {
      "cell_type": "markdown",
      "metadata": {
        "id": "oECfYKSp_MaQ"
      },
      "source": [
        "#**16. Tester le modèle avec une image de test: \"fire.jpg\" et \"no_fire.jpg (A COMPLETER)\"**"
      ]
    },
    {
      "cell_type": "code",
      "execution_count": null,
      "metadata": {
        "id": "NwCnXVtKESUf"
      },
      "outputs": [],
      "source": [
        "files.upload()"
      ]
    },
    {
      "cell_type": "code",
      "execution_count": null,
      "metadata": {
        "id": "4tUcESh_sFxg"
      },
      "outputs": [],
      "source": [
        "train_ds.class_names"
      ]
    },
    {
      "cell_type": "code",
      "execution_count": null,
      "metadata": {
        "id": "N_JRsQoh_chG"
      },
      "outputs": [],
      "source": [
        "%matplotlib inline\n",
        "\n",
        "classes = train_ds.class_names\n",
        "image_path =  \"/content/bases/test/start_fire/test104.jpg\"\n",
        "\n",
        "img = Image.open(image_path).convert('RGB')\n",
        "x = tf.keras.utils.img_to_array(img,data_format='channels_last')\n",
        "x = tf.keras.preprocessing.image.smart_resize(x, size=(224,224))\n",
        "x = np.expand_dims(x, axis=0)\n",
        "\n",
        "# predict\n",
        "pred = model.predict(x,batch_size=1)[0]\n",
        "\n",
        "for (pos,prob) in enumerate(pred):\n",
        "    class_name = classes[pos]\n",
        "    if (pos == np.argmax(pred)) :\n",
        "        img = cv2.imread(image_path)\n",
        "        img = cv2.cvtColor(img, cv2.COLOR_BGR2RGB)\n",
        "        font = cv2.FONT_HERSHEY_COMPLEX \n",
        "        textsize = cv2.getTextSize(class_name, font, 1, 2)[0]\n",
        "        textX = (img.shape[1] - textsize[0]) / 2\n",
        "        textY = (img.shape[0] + textsize[1]) / 2\n",
        "        cv2.putText(img, class_name, (int(textX)-10, int(textY)), font, 2, (255,0,0), 6, cv2.LINE_AA)\n",
        "        plt.imshow(img)\n",
        "    #print(\"Top %d ====================\" % (i + 1))\n",
        "    print(\"Class Name : %s\" % (class_name), \"---\", \"Class Probability: %.2f%%\" % (prob*100))\n",
        "plt.show()"
      ]
    },
    {
      "cell_type": "code",
      "execution_count": null,
      "metadata": {
        "id": "iE-WrC38tMiB"
      },
      "outputs": [],
      "source": []
    }
  ],
  "metadata": {
    "accelerator": "GPU",
    "colab": {
      "include_colab_link": true,
      "provenance": []
    },
    "kernelspec": {
      "display_name": "Python 3.7.12 64-bit",
      "language": "python",
      "name": "python3"
    },
    "language_info": {
      "codemirror_mode": {
        "name": "ipython",
        "version": 3
      },
      "file_extension": ".py",
      "mimetype": "text/x-python",
      "name": "python",
      "nbconvert_exporter": "python",
      "pygments_lexer": "ipython3",
      "version": "3.7.12"
    },
    "vscode": {
      "interpreter": {
        "hash": "e5030792b3492f6b12d94f1f48beca3d8e59ec05fd59d0aaaa48e684281ed297"
      }
    }
  },
  "nbformat": 4,
  "nbformat_minor": 0
}
