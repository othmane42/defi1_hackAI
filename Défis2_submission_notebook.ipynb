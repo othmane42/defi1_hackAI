{
  "cells": [
    {
      "cell_type": "markdown",
      "metadata": {
        "id": "view-in-github",
        "colab_type": "text"
      },
      "source": [
        "<a href=\"https://colab.research.google.com/github/othmane42/defi1_hackAI/blob/main/D%C3%A9fis2_submission_notebook.ipynb\" target=\"_parent\"><img src=\"https://colab.research.google.com/assets/colab-badge.svg\" alt=\"Open In Colab\"/></a>"
      ]
    },
    {
      "cell_type": "code",
      "source": [
        "!python -m pip install -q transformers  datasets  sentencepiece"
      ],
      "metadata": {
        "colab": {
          "base_uri": "https://localhost:8080/"
        },
        "id": "DXFL1guJsnQ3",
        "outputId": "b1dd9857-6eea-47dd-d3ed-ade0ff1a2a20"
      },
      "execution_count": 2,
      "outputs": [
        {
          "output_type": "stream",
          "name": "stdout",
          "text": [
            "\u001b[K     |████████████████████████████████| 5.8 MB 34.8 MB/s \n",
            "\u001b[K     |████████████████████████████████| 452 kB 72.7 MB/s \n",
            "\u001b[K     |████████████████████████████████| 1.3 MB 59.9 MB/s \n",
            "\u001b[K     |████████████████████████████████| 7.6 MB 54.8 MB/s \n",
            "\u001b[K     |████████████████████████████████| 182 kB 75.3 MB/s \n",
            "\u001b[K     |████████████████████████████████| 213 kB 58.8 MB/s \n",
            "\u001b[K     |████████████████████████████████| 132 kB 73.2 MB/s \n",
            "\u001b[K     |████████████████████████████████| 127 kB 71.9 MB/s \n",
            "\u001b[?25h"
          ]
        }
      ]
    },
    {
      "cell_type": "code",
      "execution_count": 4,
      "metadata": {
        "id": "w844LGUkpjC7",
        "colab": {
          "base_uri": "https://localhost:8080/"
        },
        "outputId": "3f164223-dec6-4547-a0fc-23032094e8e2"
      },
      "outputs": [
        {
          "output_type": "stream",
          "name": "stdout",
          "text": [
            "Mounted at /content/drive\n"
          ]
        }
      ],
      "source": [
        "from google.colab import drive\n",
        "drive.mount('/content/drive', force_remount=True)"
      ]
    },
    {
      "cell_type": "markdown",
      "metadata": {
        "id": "aufZYR6NtxYN"
      },
      "source": [
        "## 0.6. Importation de librairies utiles"
      ]
    },
    {
      "cell_type": "code",
      "execution_count": 24,
      "metadata": {
        "id": "Y1JcFys6t1QK"
      },
      "outputs": [],
      "source": [
        "import os\n",
        "import numpy as np\n",
        "import pandas as pd\n",
        "from transformers import TrainingArguments, Trainer\n",
        "from transformers import CamembertForSequenceClassification, CamembertTokenizer\n",
        "from datasets import load_dataset\n",
        "from transformers import DataCollatorWithPadding\n",
        "from sklearn.metrics import accuracy_score, f1_score\n",
        "\n",
        "np.set_printoptions(edgeitems=3, infstr='inf', linewidth=150, nanstr='nan', precision=3, suppress=False, threshold=1000, formatter=None)"
      ]
    },
    {
      "cell_type": "markdown",
      "metadata": {
        "id": "b-Fj2VOarnz6"
      },
      "source": [
        "# 1. Chargement de la base de données"
      ]
    },
    {
      "cell_type": "markdown",
      "metadata": {
        "id": "_j7z_05wxvVS"
      },
      "source": [
        "## 1.1. Chargement pour sklearn\n",
        "\n",
        "Le bout de code suivant montre comment charger le dataset du challenge pour sklearn. Le corpus se trouve donc dans la variable *ds_train['data']* et les labels dans *ds_train['label']*."
      ]
    },
    {
      "cell_type": "code",
      "source": [
        "ROOTDIR = \"/content/drive/MyDrive/MyDataset/Defi2Dataset\""
      ],
      "metadata": {
        "id": "TDWkadl9tiMH"
      },
      "execution_count": 7,
      "outputs": []
    },
    {
      "cell_type": "code",
      "execution_count": 8,
      "metadata": {
        "id": "aB6Eb9B_bCd7",
        "colab": {
          "base_uri": "https://localhost:8080/"
        },
        "outputId": "c69f73a8-ce26-4828-e878-eb3535c146ef"
      },
      "outputs": [
        {
          "output_type": "stream",
          "name": "stdout",
          "text": [
            "Nombre de news\n",
            "1458\n",
            "\n",
            "Affichage de la 1ère news\n",
            "Au 22e jour consécutif de la grève reconductible contre la réforme des retraites (soit autant de jours que le long conflit de 1995), le taux de grévistes à la SNCF a légèrement baissé à 9,6 % jeudi matin, contre 9,8 % mardi, selon la direction du groupe public. Parmi les personnels indispensables à la circulation des trains, moins de la moitié des conducteurs (42,1 %) et le quart (24 %) des contrôleurs étaient grévistes, des taux en recul par rapport à mardi (49,3 % chez les conducteurs), jour du réveillon de Noël et précédent jour de publication de ces taux. Le taux des aiguilleurs en grève a légèrement augmenté, à 13,8 %.\n",
            "\n",
            "Label de la 1ère news\n",
            "0\n"
          ]
        }
      ],
      "source": [
        "ds_train = pd.read_csv(os.path.join(ROOTDIR,'fake_train.csv') )\n",
        "ds_test = pd.read_csv(os.path.join(ROOTDIR,'fake_test.csv'))\n",
        "\n",
        "print(\"Nombre de news\")\n",
        "print(len(ds_train))\n",
        "print(\"\")\n",
        "print(\"Affichage de la 1ère news\")\n",
        "print(ds_train['data'][0])\n",
        "print(\"\")\n",
        "print(\"Label de la 1ère news\")\n",
        "print(ds_train['label'][0])"
      ]
    },
    {
      "cell_type": "code",
      "source": [
        "ds_train.rename(columns={\"label\":\"labels\"},inplace=True)\n",
        "ds_test.rename(columns={\"label\":\"labels\"},inplace=True)\n",
        "ds_train.drop(columns=[\"Unnamed: 0\"],inplace=True)\n",
        "ds_test.drop(columns=[\"Unnamed: 0\"],inplace=True)\n",
        "\n"
      ],
      "metadata": {
        "id": "IyRI8y1H9EUK"
      },
      "execution_count": 9,
      "outputs": []
    },
    {
      "cell_type": "code",
      "source": [
        "ds_train.target_name.unique()"
      ],
      "metadata": {
        "colab": {
          "base_uri": "https://localhost:8080/"
        },
        "id": "C-cL7hcGxszl",
        "outputId": "134f623a-7783-48c3-de89-4114f22813f5"
      },
      "execution_count": null,
      "outputs": [
        {
          "output_type": "execute_result",
          "data": {
            "text/plain": [
              "array(['News', 'Fake News'], dtype=object)"
            ]
          },
          "metadata": {},
          "execution_count": 25
        }
      ]
    },
    {
      "cell_type": "code",
      "source": [
        "ds_train.head()"
      ],
      "metadata": {
        "colab": {
          "base_uri": "https://localhost:8080/",
          "height": 206
        },
        "id": "qjN1iILPyzNQ",
        "outputId": "c46d615e-42ca-4aa9-95d4-b044997cada2"
      },
      "execution_count": null,
      "outputs": [
        {
          "output_type": "execute_result",
          "data": {
            "text/plain": [
              "                                                data  labels target_name\n",
              "0  Au 22e jour consécutif de la grève reconductib...       0        News\n",
              "1  Depuis plusieurs mois, les initiatives des che...       0        News\n",
              "2  Google vient d'introduire une  mise à jour  de...       0        News\n",
              "3  Portrait.  Chacun s’empresse autour d’elle tan...       0        News\n",
              "4  « Il n’y a pas de risque de pénurie » de carbu...       0        News"
            ],
            "text/html": [
              "\n",
              "  <div id=\"df-5c76a8a4-61b0-407f-93e3-c3cad9b76df3\">\n",
              "    <div class=\"colab-df-container\">\n",
              "      <div>\n",
              "<style scoped>\n",
              "    .dataframe tbody tr th:only-of-type {\n",
              "        vertical-align: middle;\n",
              "    }\n",
              "\n",
              "    .dataframe tbody tr th {\n",
              "        vertical-align: top;\n",
              "    }\n",
              "\n",
              "    .dataframe thead th {\n",
              "        text-align: right;\n",
              "    }\n",
              "</style>\n",
              "<table border=\"1\" class=\"dataframe\">\n",
              "  <thead>\n",
              "    <tr style=\"text-align: right;\">\n",
              "      <th></th>\n",
              "      <th>data</th>\n",
              "      <th>labels</th>\n",
              "      <th>target_name</th>\n",
              "    </tr>\n",
              "  </thead>\n",
              "  <tbody>\n",
              "    <tr>\n",
              "      <th>0</th>\n",
              "      <td>Au 22e jour consécutif de la grève reconductib...</td>\n",
              "      <td>0</td>\n",
              "      <td>News</td>\n",
              "    </tr>\n",
              "    <tr>\n",
              "      <th>1</th>\n",
              "      <td>Depuis plusieurs mois, les initiatives des che...</td>\n",
              "      <td>0</td>\n",
              "      <td>News</td>\n",
              "    </tr>\n",
              "    <tr>\n",
              "      <th>2</th>\n",
              "      <td>Google vient d'introduire une  mise à jour  de...</td>\n",
              "      <td>0</td>\n",
              "      <td>News</td>\n",
              "    </tr>\n",
              "    <tr>\n",
              "      <th>3</th>\n",
              "      <td>Portrait.  Chacun s’empresse autour d’elle tan...</td>\n",
              "      <td>0</td>\n",
              "      <td>News</td>\n",
              "    </tr>\n",
              "    <tr>\n",
              "      <th>4</th>\n",
              "      <td>« Il n’y a pas de risque de pénurie » de carbu...</td>\n",
              "      <td>0</td>\n",
              "      <td>News</td>\n",
              "    </tr>\n",
              "  </tbody>\n",
              "</table>\n",
              "</div>\n",
              "      <button class=\"colab-df-convert\" onclick=\"convertToInteractive('df-5c76a8a4-61b0-407f-93e3-c3cad9b76df3')\"\n",
              "              title=\"Convert this dataframe to an interactive table.\"\n",
              "              style=\"display:none;\">\n",
              "        \n",
              "  <svg xmlns=\"http://www.w3.org/2000/svg\" height=\"24px\"viewBox=\"0 0 24 24\"\n",
              "       width=\"24px\">\n",
              "    <path d=\"M0 0h24v24H0V0z\" fill=\"none\"/>\n",
              "    <path d=\"M18.56 5.44l.94 2.06.94-2.06 2.06-.94-2.06-.94-.94-2.06-.94 2.06-2.06.94zm-11 1L8.5 8.5l.94-2.06 2.06-.94-2.06-.94L8.5 2.5l-.94 2.06-2.06.94zm10 10l.94 2.06.94-2.06 2.06-.94-2.06-.94-.94-2.06-.94 2.06-2.06.94z\"/><path d=\"M17.41 7.96l-1.37-1.37c-.4-.4-.92-.59-1.43-.59-.52 0-1.04.2-1.43.59L10.3 9.45l-7.72 7.72c-.78.78-.78 2.05 0 2.83L4 21.41c.39.39.9.59 1.41.59.51 0 1.02-.2 1.41-.59l7.78-7.78 2.81-2.81c.8-.78.8-2.07 0-2.86zM5.41 20L4 18.59l7.72-7.72 1.47 1.35L5.41 20z\"/>\n",
              "  </svg>\n",
              "      </button>\n",
              "      \n",
              "  <style>\n",
              "    .colab-df-container {\n",
              "      display:flex;\n",
              "      flex-wrap:wrap;\n",
              "      gap: 12px;\n",
              "    }\n",
              "\n",
              "    .colab-df-convert {\n",
              "      background-color: #E8F0FE;\n",
              "      border: none;\n",
              "      border-radius: 50%;\n",
              "      cursor: pointer;\n",
              "      display: none;\n",
              "      fill: #1967D2;\n",
              "      height: 32px;\n",
              "      padding: 0 0 0 0;\n",
              "      width: 32px;\n",
              "    }\n",
              "\n",
              "    .colab-df-convert:hover {\n",
              "      background-color: #E2EBFA;\n",
              "      box-shadow: 0px 1px 2px rgba(60, 64, 67, 0.3), 0px 1px 3px 1px rgba(60, 64, 67, 0.15);\n",
              "      fill: #174EA6;\n",
              "    }\n",
              "\n",
              "    [theme=dark] .colab-df-convert {\n",
              "      background-color: #3B4455;\n",
              "      fill: #D2E3FC;\n",
              "    }\n",
              "\n",
              "    [theme=dark] .colab-df-convert:hover {\n",
              "      background-color: #434B5C;\n",
              "      box-shadow: 0px 1px 3px 1px rgba(0, 0, 0, 0.15);\n",
              "      filter: drop-shadow(0px 1px 2px rgba(0, 0, 0, 0.3));\n",
              "      fill: #FFFFFF;\n",
              "    }\n",
              "  </style>\n",
              "\n",
              "      <script>\n",
              "        const buttonEl =\n",
              "          document.querySelector('#df-5c76a8a4-61b0-407f-93e3-c3cad9b76df3 button.colab-df-convert');\n",
              "        buttonEl.style.display =\n",
              "          google.colab.kernel.accessAllowed ? 'block' : 'none';\n",
              "\n",
              "        async function convertToInteractive(key) {\n",
              "          const element = document.querySelector('#df-5c76a8a4-61b0-407f-93e3-c3cad9b76df3');\n",
              "          const dataTable =\n",
              "            await google.colab.kernel.invokeFunction('convertToInteractive',\n",
              "                                                     [key], {});\n",
              "          if (!dataTable) return;\n",
              "\n",
              "          const docLinkHtml = 'Like what you see? Visit the ' +\n",
              "            '<a target=\"_blank\" href=https://colab.research.google.com/notebooks/data_table.ipynb>data table notebook</a>'\n",
              "            + ' to learn more about interactive tables.';\n",
              "          element.innerHTML = '';\n",
              "          dataTable['output_type'] = 'display_data';\n",
              "          await google.colab.output.renderOutput(dataTable, element);\n",
              "          const docLink = document.createElement('div');\n",
              "          docLink.innerHTML = docLinkHtml;\n",
              "          element.appendChild(docLink);\n",
              "        }\n",
              "      </script>\n",
              "    </div>\n",
              "  </div>\n",
              "  "
            ]
          },
          "metadata": {},
          "execution_count": 26
        }
      ]
    },
    {
      "cell_type": "code",
      "source": [
        "ds_train.target_name.value_counts().plot(kind=\"bar\")"
      ],
      "metadata": {
        "colab": {
          "base_uri": "https://localhost:8080/",
          "height": 325
        },
        "id": "PUhOTzdb2Nvh",
        "outputId": "d4d16356-bdd3-4884-b600-5ab863e756c7"
      },
      "execution_count": 11,
      "outputs": [
        {
          "output_type": "execute_result",
          "data": {
            "text/plain": [
              "<matplotlib.axes._subplots.AxesSubplot at 0x7f0c0ecda940>"
            ]
          },
          "metadata": {},
          "execution_count": 11
        },
        {
          "output_type": "display_data",
          "data": {
            "text/plain": [
              "<Figure size 432x288 with 1 Axes>"
            ],
            "image/png": "[encoded data removed]"
          },
          "metadata": {
            "needs_background": "light"
          }
        }
      ]
    },
    {
      "cell_type": "code",
      "execution_count": 12,
      "metadata": {
        "id": "lx2efe1NsjNN"
      },
      "outputs": [],
      "source": [
        "ds_train.to_csv(\"fake_train_.csv\",index=False)\n",
        "ds_test.to_csv(\"fake_test_.csv\",index=False)"
      ]
    },
    {
      "cell_type": "markdown",
      "metadata": {
        "id": "tDwrIaNljbg3"
      },
      "source": [
        "# 1.2. Pipeline 1(first approach ) Chargement pour les transformers de Huggingface"
      ]
    },
    {
      "cell_type": "markdown",
      "source": [
        "mddel used:Camembert"
      ],
      "metadata": {
        "id": "5JmOUDkeP9KV"
      }
    },
    {
      "cell_type": "code",
      "execution_count": 46,
      "metadata": {
        "id": "NFkAKMrL5F1v",
        "colab": {
          "base_uri": "https://localhost:8080/",
          "height": 485,
          "referenced_widgets": [
            "2566b70b725645309eb24ba450dfd84d",
            "77a7011b07f14703a3f4596c68091097",
            "9a7b5f9c18e0471faf843867d9fc807d",
            "a018dc10d1814e2f8685982a064e7232",
            "148dff21b7bd44f898322ba3967ba36c",
            "272fde663fb4467195e8058ba19f6bad",
            "274e241bf1c24255aeaf0c1acd5937ad",
            "60844c9b2d434129b15071fc910ff53c",
            "7f78d7a0986b494389cc596282708334",
            "46b7dbd1c0ea43fe94a87113bd2ea18d",
            "f09faf733e7e4791bc5f9edc6cdc8339"
          ]
        },
        "outputId": "fbb1d3e5-7149-4fa3-bc4a-4e50b1f7a383"
      },
      "outputs": [
        {
          "output_type": "stream",
          "name": "stderr",
          "text": [
            "WARNING:datasets.builder:Using custom data configuration default-fcac8b0ea3af9e37\n",
            "WARNING:datasets.builder:Found cached dataset csv (/root/.cache/huggingface/datasets/csv/default-fcac8b0ea3af9e37/0.0.0/6b34fb8fcf56f7c8ba51dc895bfa2bfbe43546f190a60fcf74bb5e8afdcc2317)\n",
            "WARNING:datasets.builder:Using custom data configuration default-b514f38ab6c381b4\n",
            "WARNING:datasets.builder:Found cached dataset csv (/root/.cache/huggingface/datasets/csv/default-b514f38ab6c381b4/0.0.0/6b34fb8fcf56f7c8ba51dc895bfa2bfbe43546f190a60fcf74bb5e8afdcc2317)\n"
          ]
        },
        {
          "output_type": "display_data",
          "data": {
            "text/plain": [
              "  0%|          | 0/1 [00:00<?, ?it/s]"
            ],
            "application/vnd.jupyter.widget-view+json": {
              "version_major": 2,
              "version_minor": 0,
              "model_id": "2566b70b725645309eb24ba450dfd84d"
            }
          },
          "metadata": {}
        },
        {
          "output_type": "stream",
          "name": "stdout",
          "text": [
            "Nombre de news\n",
            "1458\n",
            "\n",
            "Affichage de la 1ère news\n",
            "{'data': 'Au 22e jour consécutif de la grève reconductible contre la réforme des retraites (soit autant de jours que le long conflit de 1995), le taux de grévistes à la SNCF a légèrement baissé à 9,6 % jeudi matin, contre 9,8 % mardi, selon la direction du groupe public. Parmi les personnels indispensables à la circulation des trains, moins de la moitié des conducteurs (42,1 %) et le quart (24 %) des contrôleurs étaient grévistes, des taux en recul par rapport à mardi (49,3 % chez les conducteurs), jour du réveillon de Noël et précédent jour de publication de ces taux. Le taux des aiguilleurs en grève a légèrement augmenté, à 13,8 %.', 'labels': 0, 'target_name': 'News'}\n",
            "\n",
            "Contenu de la 1ère news\n",
            "Au 22e jour consécutif de la grève reconductible contre la réforme des retraites (soit autant de jours que le long conflit de 1995), le taux de grévistes à la SNCF a légèrement baissé à 9,6 % jeudi matin, contre 9,8 % mardi, selon la direction du groupe public. Parmi les personnels indispensables à la circulation des trains, moins de la moitié des conducteurs (42,1 %) et le quart (24 %) des contrôleurs étaient grévistes, des taux en recul par rapport à mardi (49,3 % chez les conducteurs), jour du réveillon de Noël et précédent jour de publication de ces taux. Le taux des aiguilleurs en grève a légèrement augmenté, à 13,8 %.\n",
            "\n",
            "Label de la 1ère news\n",
            "0 => News\n",
            "\n",
            "Affichage de la dernière news\n",
            "{'data': 'Ainsi François Pinault a annoncé dans un premier temps faire immédiatement un don de 100 euros à Emmaüs. Une proposition alors aussitôt doublée par Bernard Arnaud qui a promis de son côté 200 euros.  « C’est très émouvant cette mobilisation »  a répondu le porte-parole de l’association d’entre aide qui s’est réjoui de cette prise de conscience. «  Cela montre qu’ils ont compris que nous étions tout aussi important que Notre-Dame » . De leurs côtés les milliardaires ont aussi réaffirmé qu’ils refusaient toute défiscalisation de ces dons, une demande qui les honore encore plus et prouve l’immensité de bonté de cœur des plus riches.  ', 'labels': 1, 'target_name': 'Fake News'}\n",
            "\n",
            "Contenu de la dernière news\n",
            "Ainsi François Pinault a annoncé dans un premier temps faire immédiatement un don de 100 euros à Emmaüs. Une proposition alors aussitôt doublée par Bernard Arnaud qui a promis de son côté 200 euros.  « C’est très émouvant cette mobilisation »  a répondu le porte-parole de l’association d’entre aide qui s’est réjoui de cette prise de conscience. «  Cela montre qu’ils ont compris que nous étions tout aussi important que Notre-Dame » . De leurs côtés les milliardaires ont aussi réaffirmé qu’ils refusaient toute défiscalisation de ces dons, une demande qui les honore encore plus et prouve l’immensité de bonté de cœur des plus riches.  \n",
            "\n",
            "Label de la dernière news\n",
            "1 => Fake News\n"
          ]
        }
      ],
      "source": [
        "dataset_train = load_dataset(\"csv\", data_files=\"fake_train_.csv\", split='train')\n",
        "dataset_test = load_dataset(\"csv\", data_files=\"fake_test_.csv\")\n",
        "\n",
        "print(\"Nombre de news\")\n",
        "print(len(dataset_train))\n",
        "print(\"\")\n",
        "print(\"Affichage de la 1ère news\")\n",
        "print(dataset_train[0])\n",
        "print(\"\")\n",
        "print(\"Contenu de la 1ère news\")\n",
        "print(dataset_train[0]['data'])\n",
        "print(\"\")\n",
        "print(\"Label de la 1ère news\")\n",
        "print(\"{} => {}\".format(dataset_train[0]['labels'], dataset_train[0]['target_name']))\n",
        "print(\"\")\n",
        "\n",
        "print(\"Affichage de la dernière news\")\n",
        "print(dataset_train[-1])\n",
        "print(\"\")\n",
        "print(\"Contenu de la dernière news\")\n",
        "print(dataset_train[-1]['data'])\n",
        "print(\"\")\n",
        "print(\"Label de la dernière news\")\n",
        "print(\"{} => {}\".format(dataset_train[-1]['labels'], dataset_train[-1]['target_name']))"
      ]
    },
    {
      "cell_type": "code",
      "source": [
        "dataset_test"
      ],
      "metadata": {
        "colab": {
          "base_uri": "https://localhost:8080/"
        },
        "id": "vjXYi8M9HJ9e",
        "outputId": "4fcd543f-a3e0-4487-a5ab-6f16b1bdc01a"
      },
      "execution_count": 44,
      "outputs": [
        {
          "output_type": "execute_result",
          "data": {
            "text/plain": [
              "DatasetDict({\n",
              "    train: Dataset({\n",
              "        features: ['data', 'labels', 'target_name'],\n",
              "        num_rows: 486\n",
              "    })\n",
              "})"
            ]
          },
          "metadata": {},
          "execution_count": 44
        }
      ]
    },
    {
      "cell_type": "code",
      "execution_count": 14,
      "metadata": {
        "id": "UuG5k3I7sjNP"
      },
      "outputs": [],
      "source": [
        "train_val_dataset=dataset_train.train_test_split(test_size=0.2,seed=42)"
      ]
    },
    {
      "cell_type": "code",
      "execution_count": 47,
      "metadata": {
        "colab": {
          "base_uri": "https://localhost:8080/"
        },
        "id": "v5vylUbgsjNP",
        "outputId": "e05d80e0-b6bc-45c2-9d52-4343b87fafa9"
      },
      "outputs": [
        {
          "output_type": "stream",
          "name": "stderr",
          "text": [
            "loading file sentencepiece.bpe.model from cache at /root/.cache/huggingface/hub/models--camembert-base/snapshots/3f452b6e5a89b0e6c828c9bba2642bc577086eae/sentencepiece.bpe.model\n",
            "loading file added_tokens.json from cache at None\n",
            "loading file special_tokens_map.json from cache at None\n",
            "loading file tokenizer_config.json from cache at None\n",
            "loading configuration file config.json from cache at /root/.cache/huggingface/hub/models--camembert-base/snapshots/3f452b6e5a89b0e6c828c9bba2642bc577086eae/config.json\n",
            "Model config CamembertConfig {\n",
            "  \"_name_or_path\": \"camembert-base\",\n",
            "  \"architectures\": [\n",
            "    \"CamembertForMaskedLM\"\n",
            "  ],\n",
            "  \"attention_probs_dropout_prob\": 0.1,\n",
            "  \"bos_token_id\": 5,\n",
            "  \"classifier_dropout\": null,\n",
            "  \"eos_token_id\": 6,\n",
            "  \"hidden_act\": \"gelu\",\n",
            "  \"hidden_dropout_prob\": 0.1,\n",
            "  \"hidden_size\": 768,\n",
            "  \"initializer_range\": 0.02,\n",
            "  \"intermediate_size\": 3072,\n",
            "  \"layer_norm_eps\": 1e-05,\n",
            "  \"max_position_embeddings\": 514,\n",
            "  \"model_type\": \"camembert\",\n",
            "  \"num_attention_heads\": 12,\n",
            "  \"num_hidden_layers\": 12,\n",
            "  \"output_past\": true,\n",
            "  \"pad_token_id\": 1,\n",
            "  \"position_embedding_type\": \"absolute\",\n",
            "  \"transformers_version\": \"4.25.1\",\n",
            "  \"type_vocab_size\": 1,\n",
            "  \"use_cache\": true,\n",
            "  \"vocab_size\": 32005\n",
            "}\n",
            "\n",
            "loading configuration file config.json from cache at /root/.cache/huggingface/hub/models--camembert-base/snapshots/3f452b6e5a89b0e6c828c9bba2642bc577086eae/config.json\n",
            "Model config CamembertConfig {\n",
            "  \"architectures\": [\n",
            "    \"CamembertForMaskedLM\"\n",
            "  ],\n",
            "  \"attention_probs_dropout_prob\": 0.1,\n",
            "  \"bos_token_id\": 5,\n",
            "  \"classifier_dropout\": null,\n",
            "  \"eos_token_id\": 6,\n",
            "  \"hidden_act\": \"gelu\",\n",
            "  \"hidden_dropout_prob\": 0.1,\n",
            "  \"hidden_size\": 768,\n",
            "  \"initializer_range\": 0.02,\n",
            "  \"intermediate_size\": 3072,\n",
            "  \"layer_norm_eps\": 1e-05,\n",
            "  \"max_position_embeddings\": 514,\n",
            "  \"model_type\": \"camembert\",\n",
            "  \"num_attention_heads\": 12,\n",
            "  \"num_hidden_layers\": 12,\n",
            "  \"output_past\": true,\n",
            "  \"pad_token_id\": 1,\n",
            "  \"position_embedding_type\": \"absolute\",\n",
            "  \"transformers_version\": \"4.25.1\",\n",
            "  \"type_vocab_size\": 1,\n",
            "  \"use_cache\": true,\n",
            "  \"vocab_size\": 32005\n",
            "}\n",
            "\n",
            "loading weights file pytorch_model.bin from cache at /root/.cache/huggingface/hub/models--camembert-base/snapshots/3f452b6e5a89b0e6c828c9bba2642bc577086eae/pytorch_model.bin\n",
            "Some weights of the model checkpoint at camembert-base were not used when initializing CamembertForSequenceClassification: ['lm_head.decoder.weight', 'lm_head.bias', 'roberta.pooler.dense.weight', 'lm_head.layer_norm.weight', 'lm_head.dense.bias', 'lm_head.layer_norm.bias', 'roberta.pooler.dense.bias', 'lm_head.dense.weight']\n",
            "- This IS expected if you are initializing CamembertForSequenceClassification from the checkpoint of a model trained on another task or with another architecture (e.g. initializing a BertForSequenceClassification model from a BertForPreTraining model).\n",
            "- This IS NOT expected if you are initializing CamembertForSequenceClassification from the checkpoint of a model that you expect to be exactly identical (initializing a BertForSequenceClassification model from a BertForSequenceClassification model).\n",
            "Some weights of CamembertForSequenceClassification were not initialized from the model checkpoint at camembert-base and are newly initialized: ['classifier.out_proj.weight', 'classifier.dense.weight', 'classifier.dense.bias', 'classifier.out_proj.bias']\n",
            "You should probably TRAIN this model on a down-stream task to be able to use it for predictions and inference.\n",
            "WARNING:datasets.arrow_dataset:Loading cached processed dataset at /root/.cache/huggingface/datasets/csv/default-fcac8b0ea3af9e37/0.0.0/6b34fb8fcf56f7c8ba51dc895bfa2bfbe43546f190a60fcf74bb5e8afdcc2317/cache-9bb84553e6892908.arrow\n",
            "WARNING:datasets.arrow_dataset:Loading cached processed dataset at /root/.cache/huggingface/datasets/csv/default-fcac8b0ea3af9e37/0.0.0/6b34fb8fcf56f7c8ba51dc895bfa2bfbe43546f190a60fcf74bb5e8afdcc2317/cache-b528867bb497453f.arrow\n",
            "WARNING:datasets.arrow_dataset:Loading cached processed dataset at /root/.cache/huggingface/datasets/csv/default-b514f38ab6c381b4/0.0.0/6b34fb8fcf56f7c8ba51dc895bfa2bfbe43546f190a60fcf74bb5e8afdcc2317/cache-7552052eb4833180.arrow\n"
          ]
        }
      ],
      "source": [
        "# You can replace \"camembert-base\" with any other model from the table, e.g. \"camembert/camembert-large\".\n",
        "tokenizer = CamembertTokenizer.from_pretrained(\"camembert-base\")\n",
        "camembert = CamembertForSequenceClassification.from_pretrained(\n",
        "    'camembert-base',\n",
        "    num_labels = 2)\n",
        "\n",
        "\n",
        "def preprocess_function(examples):\n",
        "    return tokenizer(examples['data'], truncation=True)\n",
        "\n",
        "tokenized_hugging_train = train_val_dataset[\"train\"].map(preprocess_function, batched=True,batch_size=8)\n",
        "tokenized_hugging_val = train_val_dataset[\"test\"].map(preprocess_function, batched=True,batch_size=8)\n",
        "tokenized_hugging_test = dataset_test[\"train\"].map(preprocess_function, batched=True,batch_size=8)\n"
      ]
    },
    {
      "cell_type": "code",
      "execution_count": 48,
      "metadata": {
        "colab": {
          "base_uri": "https://localhost:8080/"
        },
        "id": "SEkIVxogsjNQ",
        "outputId": "274d6e49-d92e-47d6-97e3-110c5fe7bc5f"
      },
      "outputs": [
        {
          "output_type": "stream",
          "name": "stderr",
          "text": [
            "WARNING:datasets.arrow_dataset:Loading cached processed dataset at /root/.cache/huggingface/datasets/csv/default-fcac8b0ea3af9e37/0.0.0/6b34fb8fcf56f7c8ba51dc895bfa2bfbe43546f190a60fcf74bb5e8afdcc2317/cache-7ed848f48abe4bd9.arrow\n",
            "WARNING:datasets.arrow_dataset:Loading cached processed dataset at /root/.cache/huggingface/datasets/csv/default-b514f38ab6c381b4/0.0.0/6b34fb8fcf56f7c8ba51dc895bfa2bfbe43546f190a60fcf74bb5e8afdcc2317/cache-8099a1ed254dce95.arrow\n",
            "WARNING:datasets.arrow_dataset:Loading cached processed dataset at /root/.cache/huggingface/datasets/csv/default-fcac8b0ea3af9e37/0.0.0/6b34fb8fcf56f7c8ba51dc895bfa2bfbe43546f190a60fcf74bb5e8afdcc2317/cache-6b21a11eea8df99e.arrow\n"
          ]
        }
      ],
      "source": [
        "categories = ['News', 'Fake News']\n",
        "def map_label(sample):\n",
        "  ind = categories.index(sample['target_name'])\n",
        "  sample['labels'] = ind\n",
        "  return sample\n",
        "\n",
        "tokenized_hugging_train = tokenized_hugging_train.map(map_label, batched=False)\n",
        "tokenized_hugging_test = tokenized_hugging_test.map(map_label, batched=False)\n",
        "tokenized_hugging_val = tokenized_hugging_val.map(map_label, batched=False)\n"
      ]
    },
    {
      "cell_type": "code",
      "execution_count": 33,
      "metadata": {
        "id": "Q3KStMFhsjNQ"
      },
      "outputs": [],
      "source": [
        "def compute_metrics(eval_pred):\n",
        "    predictions, labels = eval_pred\n",
        "    predictions = predictions.argmax(-1)\n",
        "    f1 = f1_score(labels, predictions)\n",
        "    return {'f1': f1}\n"
      ]
    },
    {
      "cell_type": "code",
      "execution_count": 34,
      "metadata": {
        "colab": {
          "base_uri": "https://localhost:8080/"
        },
        "id": "pm4ILCXBsjNQ",
        "outputId": "32559217-7af5-456e-c451-14579a416a3d"
      },
      "outputs": [
        {
          "output_type": "stream",
          "name": "stderr",
          "text": [
            "PyTorch: setting up devices\n",
            "The default value for the training argument `--report_to` will change in v5 (from all installed integrations to none). In v5, you will need to use `--report_to all` to get the same behavior as now. You should start updating your code and make this info disappear :-).\n"
          ]
        }
      ],
      "source": [
        "data_collator = DataCollatorWithPadding(tokenizer=tokenizer)\n",
        "training_args = TrainingArguments(\n",
        "    output_dir=\"./content/drive/MyDrive/MyModels/results_camamembert\",\n",
        "    learning_rate=2e-5,\n",
        "    per_device_train_batch_size=8,\n",
        "    per_device_eval_batch_size=8,\n",
        "    num_train_epochs=10,\n",
        "    weight_decay=0.01,\n",
        "    metric_for_best_model=\"f1\",\n",
        "    save_strategy=\"epoch\", # on enregistre le modèle à chaque epoch\n",
        "    evaluation_strategy=\"epoch\", # on évalue le modèle à chaque epoch\n",
        "    load_best_model_at_end=True # on charge le meilleur modèle (en terme d'accuracy) à la fin de l'entrainement\n",
        ")"
      ]
    },
    {
      "cell_type": "code",
      "source": [],
      "metadata": {
        "id": "Q_DSxku376b3"
      },
      "execution_count": null,
      "outputs": []
    },
    {
      "cell_type": "code",
      "execution_count": 35,
      "metadata": {
        "id": "Be2L3ojCsjNR"
      },
      "outputs": [],
      "source": [
        "trainer = Trainer(\n",
        "    model=camembert,\n",
        "    args=training_args,\n",
        "    train_dataset=tokenized_hugging_train,\n",
        "    eval_dataset=tokenized_hugging_val,\n",
        "    tokenizer=tokenizer,\n",
        "    data_collator=data_collator,\n",
        "    compute_metrics=compute_metrics\n",
        ")"
      ]
    },
    {
      "cell_type": "code",
      "execution_count": 36,
      "metadata": {
        "colab": {
          "base_uri": "https://localhost:8080/",
          "height": 1000
        },
        "id": "jtfpHLBCsjNR",
        "outputId": "c69f4e19-89ad-41e4-998f-7de035417bf9"
      },
      "outputs": [
        {
          "output_type": "stream",
          "name": "stderr",
          "text": [
            "The following columns in the training set don't have a corresponding argument in `CamembertForSequenceClassification.forward` and have been ignored: target_name, data. If target_name, data are not expected by `CamembertForSequenceClassification.forward`,  you can safely ignore this message.\n",
            "/usr/local/lib/python3.8/dist-packages/transformers/optimization.py:306: FutureWarning: This implementation of AdamW is deprecated and will be removed in a future version. Use the PyTorch implementation torch.optim.AdamW instead, or set `no_deprecation_warning=True` to disable this warning\n",
            "  warnings.warn(\n",
            "***** Running training *****\n",
            "  Num examples = 1166\n",
            "  Num Epochs = 10\n",
            "  Instantaneous batch size per device = 8\n",
            "  Total train batch size (w. parallel, distributed & accumulation) = 8\n",
            "  Gradient Accumulation steps = 1\n",
            "  Total optimization steps = 1460\n",
            "  Number of trainable parameters = 110623490\n"
          ]
        },
        {
          "output_type": "display_data",
          "data": {
            "text/plain": [
              "<IPython.core.display.HTML object>"
            ],
            "text/html": [
              "\n",
              "    <div>\n",
              "      \n",
              "      <progress value='1460' max='1460' style='width:300px; height:20px; vertical-align: middle;'></progress>\n",
              "      [1460/1460 20:34, Epoch 10/10]\n",
              "    </div>\n",
              "    <table border=\"1\" class=\"dataframe\">\n",
              "  <thead>\n",
              " <tr style=\"text-align: left;\">\n",
              "      <th>Epoch</th>\n",
              "      <th>Training Loss</th>\n",
              "      <th>Validation Loss</th>\n",
              "      <th>F1</th>\n",
              "    </tr>\n",
              "  </thead>\n",
              "  <tbody>\n",
              "    <tr>\n",
              "      <td>1</td>\n",
              "      <td>No log</td>\n",
              "      <td>0.032371</td>\n",
              "      <td>0.991736</td>\n",
              "    </tr>\n",
              "    <tr>\n",
              "      <td>2</td>\n",
              "      <td>No log</td>\n",
              "      <td>0.026353</td>\n",
              "      <td>0.991667</td>\n",
              "    </tr>\n",
              "    <tr>\n",
              "      <td>3</td>\n",
              "      <td>No log</td>\n",
              "      <td>0.085517</td>\n",
              "      <td>0.983193</td>\n",
              "    </tr>\n",
              "    <tr>\n",
              "      <td>4</td>\n",
              "      <td>0.056300</td>\n",
              "      <td>0.040063</td>\n",
              "      <td>0.991667</td>\n",
              "    </tr>\n",
              "    <tr>\n",
              "      <td>5</td>\n",
              "      <td>0.056300</td>\n",
              "      <td>0.047586</td>\n",
              "      <td>0.991667</td>\n",
              "    </tr>\n",
              "    <tr>\n",
              "      <td>6</td>\n",
              "      <td>0.056300</td>\n",
              "      <td>0.050955</td>\n",
              "      <td>0.991667</td>\n",
              "    </tr>\n",
              "    <tr>\n",
              "      <td>7</td>\n",
              "      <td>0.000700</td>\n",
              "      <td>0.052489</td>\n",
              "      <td>0.991667</td>\n",
              "    </tr>\n",
              "    <tr>\n",
              "      <td>8</td>\n",
              "      <td>0.000700</td>\n",
              "      <td>0.053965</td>\n",
              "      <td>0.991667</td>\n",
              "    </tr>\n",
              "    <tr>\n",
              "      <td>9</td>\n",
              "      <td>0.000700</td>\n",
              "      <td>0.054888</td>\n",
              "      <td>0.991667</td>\n",
              "    </tr>\n",
              "    <tr>\n",
              "      <td>10</td>\n",
              "      <td>0.000700</td>\n",
              "      <td>0.055252</td>\n",
              "      <td>0.991667</td>\n",
              "    </tr>\n",
              "  </tbody>\n",
              "</table><p>"
            ]
          },
          "metadata": {}
        },
        {
          "output_type": "stream",
          "name": "stderr",
          "text": [
            "The following columns in the evaluation set don't have a corresponding argument in `CamembertForSequenceClassification.forward` and have been ignored: target_name, data. If target_name, data are not expected by `CamembertForSequenceClassification.forward`,  you can safely ignore this message.\n",
            "***** Running Evaluation *****\n",
            "  Num examples = 292\n",
            "  Batch size = 8\n",
            "Saving model checkpoint to ./content/drive/MyDrive/MyModels/results_camamembert/checkpoint-146\n",
            "Configuration saved in ./content/drive/MyDrive/MyModels/results_camamembert/checkpoint-146/config.json\n",
            "Model weights saved in ./content/drive/MyDrive/MyModels/results_camamembert/checkpoint-146/pytorch_model.bin\n",
            "tokenizer config file saved in ./content/drive/MyDrive/MyModels/results_camamembert/checkpoint-146/tokenizer_config.json\n",
            "Special tokens file saved in ./content/drive/MyDrive/MyModels/results_camamembert/checkpoint-146/special_tokens_map.json\n",
            "The following columns in the evaluation set don't have a corresponding argument in `CamembertForSequenceClassification.forward` and have been ignored: target_name, data. If target_name, data are not expected by `CamembertForSequenceClassification.forward`,  you can safely ignore this message.\n",
            "***** Running Evaluation *****\n",
            "  Num examples = 292\n",
            "  Batch size = 8\n",
            "Saving model checkpoint to ./content/drive/MyDrive/MyModels/results_camamembert/checkpoint-292\n",
            "Configuration saved in ./content/drive/MyDrive/MyModels/results_camamembert/checkpoint-292/config.json\n",
            "Model weights saved in ./content/drive/MyDrive/MyModels/results_camamembert/checkpoint-292/pytorch_model.bin\n",
            "tokenizer config file saved in ./content/drive/MyDrive/MyModels/results_camamembert/checkpoint-292/tokenizer_config.json\n",
            "Special tokens file saved in ./content/drive/MyDrive/MyModels/results_camamembert/checkpoint-292/special_tokens_map.json\n",
            "The following columns in the evaluation set don't have a corresponding argument in `CamembertForSequenceClassification.forward` and have been ignored: target_name, data. If target_name, data are not expected by `CamembertForSequenceClassification.forward`,  you can safely ignore this message.\n",
            "***** Running Evaluation *****\n",
            "  Num examples = 292\n",
            "  Batch size = 8\n",
            "Saving model checkpoint to ./content/drive/MyDrive/MyModels/results_camamembert/checkpoint-438\n",
            "Configuration saved in ./content/drive/MyDrive/MyModels/results_camamembert/checkpoint-438/config.json\n",
            "Model weights saved in ./content/drive/MyDrive/MyModels/results_camamembert/checkpoint-438/pytorch_model.bin\n",
            "tokenizer config file saved in ./content/drive/MyDrive/MyModels/results_camamembert/checkpoint-438/tokenizer_config.json\n",
            "Special tokens file saved in ./content/drive/MyDrive/MyModels/results_camamembert/checkpoint-438/special_tokens_map.json\n",
            "The following columns in the evaluation set don't have a corresponding argument in `CamembertForSequenceClassification.forward` and have been ignored: target_name, data. If target_name, data are not expected by `CamembertForSequenceClassification.forward`,  you can safely ignore this message.\n",
            "***** Running Evaluation *****\n",
            "  Num examples = 292\n",
            "  Batch size = 8\n",
            "Saving model checkpoint to ./content/drive/MyDrive/MyModels/results_camamembert/checkpoint-584\n",
            "Configuration saved in ./content/drive/MyDrive/MyModels/results_camamembert/checkpoint-584/config.json\n",
            "Model weights saved in ./content/drive/MyDrive/MyModels/results_camamembert/checkpoint-584/pytorch_model.bin\n",
            "tokenizer config file saved in ./content/drive/MyDrive/MyModels/results_camamembert/checkpoint-584/tokenizer_config.json\n",
            "Special tokens file saved in ./content/drive/MyDrive/MyModels/results_camamembert/checkpoint-584/special_tokens_map.json\n",
            "The following columns in the evaluation set don't have a corresponding argument in `CamembertForSequenceClassification.forward` and have been ignored: target_name, data. If target_name, data are not expected by `CamembertForSequenceClassification.forward`,  you can safely ignore this message.\n",
            "***** Running Evaluation *****\n",
            "  Num examples = 292\n",
            "  Batch size = 8\n",
            "Saving model checkpoint to ./content/drive/MyDrive/MyModels/results_camamembert/checkpoint-730\n",
            "Configuration saved in ./content/drive/MyDrive/MyModels/results_camamembert/checkpoint-730/config.json\n",
            "Model weights saved in ./content/drive/MyDrive/MyModels/results_camamembert/checkpoint-730/pytorch_model.bin\n",
            "tokenizer config file saved in ./content/drive/MyDrive/MyModels/results_camamembert/checkpoint-730/tokenizer_config.json\n",
            "Special tokens file saved in ./content/drive/MyDrive/MyModels/results_camamembert/checkpoint-730/special_tokens_map.json\n",
            "The following columns in the evaluation set don't have a corresponding argument in `CamembertForSequenceClassification.forward` and have been ignored: target_name, data. If target_name, data are not expected by `CamembertForSequenceClassification.forward`,  you can safely ignore this message.\n",
            "***** Running Evaluation *****\n",
            "  Num examples = 292\n",
            "  Batch size = 8\n",
            "Saving model checkpoint to ./content/drive/MyDrive/MyModels/results_camamembert/checkpoint-876\n",
            "Configuration saved in ./content/drive/MyDrive/MyModels/results_camamembert/checkpoint-876/config.json\n",
            "Model weights saved in ./content/drive/MyDrive/MyModels/results_camamembert/checkpoint-876/pytorch_model.bin\n",
            "tokenizer config file saved in ./content/drive/MyDrive/MyModels/results_camamembert/checkpoint-876/tokenizer_config.json\n",
            "Special tokens file saved in ./content/drive/MyDrive/MyModels/results_camamembert/checkpoint-876/special_tokens_map.json\n",
            "The following columns in the evaluation set don't have a corresponding argument in `CamembertForSequenceClassification.forward` and have been ignored: target_name, data. If target_name, data are not expected by `CamembertForSequenceClassification.forward`,  you can safely ignore this message.\n",
            "***** Running Evaluation *****\n",
            "  Num examples = 292\n",
            "  Batch size = 8\n",
            "Saving model checkpoint to ./content/drive/MyDrive/MyModels/results_camamembert/checkpoint-1022\n",
            "Configuration saved in ./content/drive/MyDrive/MyModels/results_camamembert/checkpoint-1022/config.json\n",
            "Model weights saved in ./content/drive/MyDrive/MyModels/results_camamembert/checkpoint-1022/pytorch_model.bin\n",
            "tokenizer config file saved in ./content/drive/MyDrive/MyModels/results_camamembert/checkpoint-1022/tokenizer_config.json\n",
            "Special tokens file saved in ./content/drive/MyDrive/MyModels/results_camamembert/checkpoint-1022/special_tokens_map.json\n",
            "The following columns in the evaluation set don't have a corresponding argument in `CamembertForSequenceClassification.forward` and have been ignored: target_name, data. If target_name, data are not expected by `CamembertForSequenceClassification.forward`,  you can safely ignore this message.\n",
            "***** Running Evaluation *****\n",
            "  Num examples = 292\n",
            "  Batch size = 8\n",
            "Saving model checkpoint to ./content/drive/MyDrive/MyModels/results_camamembert/checkpoint-1168\n",
            "Configuration saved in ./content/drive/MyDrive/MyModels/results_camamembert/checkpoint-1168/config.json\n",
            "Model weights saved in ./content/drive/MyDrive/MyModels/results_camamembert/checkpoint-1168/pytorch_model.bin\n",
            "tokenizer config file saved in ./content/drive/MyDrive/MyModels/results_camamembert/checkpoint-1168/tokenizer_config.json\n",
            "Special tokens file saved in ./content/drive/MyDrive/MyModels/results_camamembert/checkpoint-1168/special_tokens_map.json\n",
            "The following columns in the evaluation set don't have a corresponding argument in `CamembertForSequenceClassification.forward` and have been ignored: target_name, data. If target_name, data are not expected by `CamembertForSequenceClassification.forward`,  you can safely ignore this message.\n",
            "***** Running Evaluation *****\n",
            "  Num examples = 292\n",
            "  Batch size = 8\n",
            "Saving model checkpoint to ./content/drive/MyDrive/MyModels/results_camamembert/checkpoint-1314\n",
            "Configuration saved in ./content/drive/MyDrive/MyModels/results_camamembert/checkpoint-1314/config.json\n",
            "Model weights saved in ./content/drive/MyDrive/MyModels/results_camamembert/checkpoint-1314/pytorch_model.bin\n",
            "tokenizer config file saved in ./content/drive/MyDrive/MyModels/results_camamembert/checkpoint-1314/tokenizer_config.json\n",
            "Special tokens file saved in ./content/drive/MyDrive/MyModels/results_camamembert/checkpoint-1314/special_tokens_map.json\n",
            "The following columns in the evaluation set don't have a corresponding argument in `CamembertForSequenceClassification.forward` and have been ignored: target_name, data. If target_name, data are not expected by `CamembertForSequenceClassification.forward`,  you can safely ignore this message.\n",
            "***** Running Evaluation *****\n",
            "  Num examples = 292\n",
            "  Batch size = 8\n",
            "Saving model checkpoint to ./content/drive/MyDrive/MyModels/results_camamembert/checkpoint-1460\n",
            "Configuration saved in ./content/drive/MyDrive/MyModels/results_camamembert/checkpoint-1460/config.json\n",
            "Model weights saved in ./content/drive/MyDrive/MyModels/results_camamembert/checkpoint-1460/pytorch_model.bin\n",
            "tokenizer config file saved in ./content/drive/MyDrive/MyModels/results_camamembert/checkpoint-1460/tokenizer_config.json\n",
            "Special tokens file saved in ./content/drive/MyDrive/MyModels/results_camamembert/checkpoint-1460/special_tokens_map.json\n",
            "\n",
            "\n",
            "Training completed. Do not forget to share your model on huggingface.co/models =)\n",
            "\n",
            "\n",
            "Loading best model from ./content/drive/MyDrive/MyModels/results_camamembert/checkpoint-146 (score: 0.9917355371900827).\n"
          ]
        },
        {
          "output_type": "execute_result",
          "data": {
            "text/plain": [
              "TrainOutput(global_step=1460, training_loss=0.019645144157621957, metrics={'train_runtime': 1235.5983, 'train_samples_per_second': 9.437, 'train_steps_per_second': 1.182, 'total_flos': 3061728795688800.0, 'train_loss': 0.019645144157621957, 'epoch': 10.0})"
            ]
          },
          "metadata": {},
          "execution_count": 36
        }
      ],
      "source": [
        "trainer.train()"
      ]
    },
    {
      "cell_type": "code",
      "execution_count": 50,
      "metadata": {
        "id": "-XqTxJyQsjNR",
        "colab": {
          "base_uri": "https://localhost:8080/",
          "height": 231
        },
        "outputId": "6ef9da2a-cb3b-44b2-ff9d-16dee487ee1d"
      },
      "outputs": [
        {
          "output_type": "stream",
          "name": "stderr",
          "text": [
            "The following columns in the evaluation set don't have a corresponding argument in `CamembertForSequenceClassification.forward` and have been ignored: target_name, data. If target_name, data are not expected by `CamembertForSequenceClassification.forward`,  you can safely ignore this message.\n",
            "***** Running Evaluation *****\n",
            "  Num examples = 486\n",
            "  Batch size = 8\n"
          ]
        },
        {
          "output_type": "display_data",
          "data": {
            "text/plain": [
              "<IPython.core.display.HTML object>"
            ],
            "text/html": [
              "\n",
              "    <div>\n",
              "      \n",
              "      <progress value='61' max='61' style='width:300px; height:20px; vertical-align: middle;'></progress>\n",
              "      [61/61 00:12]\n",
              "    </div>\n",
              "    "
            ]
          },
          "metadata": {}
        },
        {
          "output_type": "execute_result",
          "data": {
            "text/plain": [
              "{'eval_loss': 0.11775372177362442,\n",
              " 'eval_f1': 0.9739952718676123,\n",
              " 'eval_runtime': 13.0473,\n",
              " 'eval_samples_per_second': 37.249,\n",
              " 'eval_steps_per_second': 4.675,\n",
              " 'epoch': 10.0}"
            ]
          },
          "metadata": {},
          "execution_count": 50
        }
      ],
      "source": [
        "trainer.evaluate(eval_dataset=tokenized_hugging_test)"
      ]
    },
    {
      "cell_type": "markdown",
      "source": [
        "# pipeline 2 (second approach )  ML model with tf-idf tokenizers "
      ],
      "metadata": {
        "id": "Kq_n_ezpQEGK"
      }
    },
    {
      "cell_type": "markdown",
      "source": [
        "model used ( comparision using pycaret)"
      ],
      "metadata": {
        "id": "nNCmKp2MQOFQ"
      }
    },
    {
      "cell_type": "code",
      "source": [],
      "metadata": {
        "id": "o2xFojamQNjl"
      },
      "execution_count": null,
      "outputs": []
    }
  ],
  "metadata": {
    "accelerator": "GPU",
    "colab": {
      "provenance": [],
      "include_colab_link": true
    },
    "gpuClass": "standard",
    "kernelspec": {
      "display_name": "Python 3",
      "language": "python",
      "name": "python3"
    },
    "language_info": {
      "codemirror_mode": {
        "name": "ipython",
        "version": 3
      },
      "file_extension": ".py",
      "mimetype": "text/x-python",
      "name": "python",
      "nbconvert_exporter": "python",
      "pygments_lexer": "ipython3",
      "version": "3.7.12 (default, Jan 15 2022, 18:42:10) \n[GCC 9.3.0]"
    },
    "vscode": {
      "interpreter": {
        "hash": "e7370f93d1d0cde622a1f8e1c04877d8463912d04d973331ad4851f04de6915a"
      }
    },
    "widgets": {
      "application/vnd.jupyter.widget-state+json": {
        "2566b70b725645309eb24ba450dfd84d": {
          "model_module": "@jupyter-widgets/controls",
          "model_name": "HBoxModel",
          "model_module_version": "1.5.0",
          "state": {
            "_dom_classes": [],
            "_model_module": "@jupyter-widgets/controls",
            "_model_module_version": "1.5.0",
            "_model_name": "HBoxModel",
            "_view_count": null,
            "_view_module": "@jupyter-widgets/controls",
            "_view_module_version": "1.5.0",
            "_view_name": "HBoxView",
            "box_style": "",
            "children": [
              "IPY_MODEL_77a7011b07f14703a3f4596c68091097",
              "IPY_MODEL_9a7b5f9c18e0471faf843867d9fc807d",
              "IPY_MODEL_a018dc10d1814e2f8685982a064e7232"
            ],
            "layout": "IPY_MODEL_148dff21b7bd44f898322ba3967ba36c"
          }
        },
        "77a7011b07f14703a3f4596c68091097": {
          "model_module": "@jupyter-widgets/controls",
          "model_name": "HTMLModel",
          "model_module_version": "1.5.0",
          "state": {
            "_dom_classes": [],
            "_model_module": "@jupyter-widgets/controls",
            "_model_module_version": "1.5.0",
            "_model_name": "HTMLModel",
            "_view_count": null,
            "_view_module": "@jupyter-widgets/controls",
            "_view_module_version": "1.5.0",
            "_view_name": "HTMLView",
            "description": "",
            "description_tooltip": null,
            "layout": "IPY_MODEL_272fde663fb4467195e8058ba19f6bad",
            "placeholder": "​",
            "style": "IPY_MODEL_274e241bf1c24255aeaf0c1acd5937ad",
            "value": "100%"
          }
        },
        "9a7b5f9c18e0471faf843867d9fc807d": {
          "model_module": "@jupyter-widgets/controls",
          "model_name": "FloatProgressModel",
          "model_module_version": "1.5.0",
          "state": {
            "_dom_classes": [],
            "_model_module": "@jupyter-widgets/controls",
            "_model_module_version": "1.5.0",
            "_model_name": "FloatProgressModel",
            "_view_count": null,
            "_view_module": "@jupyter-widgets/controls",
            "_view_module_version": "1.5.0",
            "_view_name": "ProgressView",
            "bar_style": "success",
            "description": "",
            "description_tooltip": null,
            "layout": "IPY_MODEL_60844c9b2d434129b15071fc910ff53c",
            "max": 1,
            "min": 0,
            "orientation": "horizontal",
            "style": "IPY_MODEL_7f78d7a0986b494389cc596282708334",
            "value": 1
          }
        },
        "a018dc10d1814e2f8685982a064e7232": {
          "model_module": "@jupyter-widgets/controls",
          "model_name": "HTMLModel",
          "model_module_version": "1.5.0",
          "state": {
            "_dom_classes": [],
            "_model_module": "@jupyter-widgets/controls",
            "_model_module_version": "1.5.0",
            "_model_name": "HTMLModel",
            "_view_count": null,
            "_view_module": "@jupyter-widgets/controls",
            "_view_module_version": "1.5.0",
            "_view_name": "HTMLView",
            "description": "",
            "description_tooltip": null,
            "layout": "IPY_MODEL_46b7dbd1c0ea43fe94a87113bd2ea18d",
            "placeholder": "​",
            "style": "IPY_MODEL_f09faf733e7e4791bc5f9edc6cdc8339",
            "value": " 1/1 [00:00&lt;00:00, 19.51it/s]"
          }
        },
        "148dff21b7bd44f898322ba3967ba36c": {
          "model_module": "@jupyter-widgets/base",
          "model_name": "LayoutModel",
          "model_module_version": "1.2.0",
          "state": {
            "_model_module": "@jupyter-widgets/base",
            "_model_module_version": "1.2.0",
            "_model_name": "LayoutModel",
            "_view_count": null,
            "_view_module": "@jupyter-widgets/base",
            "_view_module_version": "1.2.0",
            "_view_name": "LayoutView",
            "align_content": null,
            "align_items": null,
            "align_self": null,
            "border": null,
            "bottom": null,
            "display": null,
            "flex": null,
            "flex_flow": null,
            "grid_area": null,
            "grid_auto_columns": null,
            "grid_auto_flow": null,
            "grid_auto_rows": null,
            "grid_column": null,
            "grid_gap": null,
            "grid_row": null,
            "grid_template_areas": null,
            "grid_template_columns": null,
            "grid_template_rows": null,
            "height": null,
            "justify_content": null,
            "justify_items": null,
            "left": null,
            "margin": null,
            "max_height": null,
            "max_width": null,
            "min_height": null,
            "min_width": null,
            "object_fit": null,
            "object_position": null,
            "order": null,
            "overflow": null,
            "overflow_x": null,
            "overflow_y": null,
            "padding": null,
            "right": null,
            "top": null,
            "visibility": null,
            "width": null
          }
        },
        "272fde663fb4467195e8058ba19f6bad": {
          "model_module": "@jupyter-widgets/base",
          "model_name": "LayoutModel",
          "model_module_version": "1.2.0",
          "state": {
            "_model_module": "@jupyter-widgets/base",
            "_model_module_version": "1.2.0",
            "_model_name": "LayoutModel",
            "_view_count": null,
            "_view_module": "@jupyter-widgets/base",
            "_view_module_version": "1.2.0",
            "_view_name": "LayoutView",
            "align_content": null,
            "align_items": null,
            "align_self": null,
            "border": null,
            "bottom": null,
            "display": null,
            "flex": null,
            "flex_flow": null,
            "grid_area": null,
            "grid_auto_columns": null,
            "grid_auto_flow": null,
            "grid_auto_rows": null,
            "grid_column": null,
            "grid_gap": null,
            "grid_row": null,
            "grid_template_areas": null,
            "grid_template_columns": null,
            "grid_template_rows": null,
            "height": null,
            "justify_content": null,
            "justify_items": null,
            "left": null,
            "margin": null,
            "max_height": null,
            "max_width": null,
            "min_height": null,
            "min_width": null,
            "object_fit": null,
            "object_position": null,
            "order": null,
            "overflow": null,
            "overflow_x": null,
            "overflow_y": null,
            "padding": null,
            "right": null,
            "top": null,
            "visibility": null,
            "width": null
          }
        },
        "274e241bf1c24255aeaf0c1acd5937ad": {
          "model_module": "@jupyter-widgets/controls",
          "model_name": "DescriptionStyleModel",
          "model_module_version": "1.5.0",
          "state": {
            "_model_module": "@jupyter-widgets/controls",
            "_model_module_version": "1.5.0",
            "_model_name": "DescriptionStyleModel",
            "_view_count": null,
            "_view_module": "@jupyter-widgets/base",
            "_view_module_version": "1.2.0",
            "_view_name": "StyleView",
            "description_width": ""
          }
        },
        "60844c9b2d434129b15071fc910ff53c": {
          "model_module": "@jupyter-widgets/base",
          "model_name": "LayoutModel",
          "model_module_version": "1.2.0",
          "state": {
            "_model_module": "@jupyter-widgets/base",
            "_model_module_version": "1.2.0",
            "_model_name": "LayoutModel",
            "_view_count": null,
            "_view_module": "@jupyter-widgets/base",
            "_view_module_version": "1.2.0",
            "_view_name": "LayoutView",
            "align_content": null,
            "align_items": null,
            "align_self": null,
            "border": null,
            "bottom": null,
            "display": null,
            "flex": null,
            "flex_flow": null,
            "grid_area": null,
            "grid_auto_columns": null,
            "grid_auto_flow": null,
            "grid_auto_rows": null,
            "grid_column": null,
            "grid_gap": null,
            "grid_row": null,
            "grid_template_areas": null,
            "grid_template_columns": null,
            "grid_template_rows": null,
            "height": null,
            "justify_content": null,
            "justify_items": null,
            "left": null,
            "margin": null,
            "max_height": null,
            "max_width": null,
            "min_height": null,
            "min_width": null,
            "object_fit": null,
            "object_position": null,
            "order": null,
            "overflow": null,
            "overflow_x": null,
            "overflow_y": null,
            "padding": null,
            "right": null,
            "top": null,
            "visibility": null,
            "width": null
          }
        },
        "7f78d7a0986b494389cc596282708334": {
          "model_module": "@jupyter-widgets/controls",
          "model_name": "ProgressStyleModel",
          "model_module_version": "1.5.0",
          "state": {
            "_model_module": "@jupyter-widgets/controls",
            "_model_module_version": "1.5.0",
            "_model_name": "ProgressStyleModel",
            "_view_count": null,
            "_view_module": "@jupyter-widgets/base",
            "_view_module_version": "1.2.0",
            "_view_name": "StyleView",
            "bar_color": null,
            "description_width": ""
          }
        },
        "46b7dbd1c0ea43fe94a87113bd2ea18d": {
          "model_module": "@jupyter-widgets/base",
          "model_name": "LayoutModel",
          "model_module_version": "1.2.0",
          "state": {
            "_model_module": "@jupyter-widgets/base",
            "_model_module_version": "1.2.0",
            "_model_name": "LayoutModel",
            "_view_count": null,
            "_view_module": "@jupyter-widgets/base",
            "_view_module_version": "1.2.0",
            "_view_name": "LayoutView",
            "align_content": null,
            "align_items": null,
            "align_self": null,
            "border": null,
            "bottom": null,
            "display": null,
            "flex": null,
            "flex_flow": null,
            "grid_area": null,
            "grid_auto_columns": null,
            "grid_auto_flow": null,
            "grid_auto_rows": null,
            "grid_column": null,
            "grid_gap": null,
            "grid_row": null,
            "grid_template_areas": null,
            "grid_template_columns": null,
            "grid_template_rows": null,
            "height": null,
            "justify_content": null,
            "justify_items": null,
            "left": null,
            "margin": null,
            "max_height": null,
            "max_width": null,
            "min_height": null,
            "min_width": null,
            "object_fit": null,
            "object_position": null,
            "order": null,
            "overflow": null,
            "overflow_x": null,
            "overflow_y": null,
            "padding": null,
            "right": null,
            "top": null,
            "visibility": null,
            "width": null
          }
        },
        "f09faf733e7e4791bc5f9edc6cdc8339": {
          "model_module": "@jupyter-widgets/controls",
          "model_name": "DescriptionStyleModel",
          "model_module_version": "1.5.0",
          "state": {
            "_model_module": "@jupyter-widgets/controls",
            "_model_module_version": "1.5.0",
            "_model_name": "DescriptionStyleModel",
            "_view_count": null,
            "_view_module": "@jupyter-widgets/base",
            "_view_module_version": "1.2.0",
            "_view_name": "StyleView",
            "description_width": ""
          }
        }
      }
    }
  },
  "nbformat": 4,
  "nbformat_minor": 0
}